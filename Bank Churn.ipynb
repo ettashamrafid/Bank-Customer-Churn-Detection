{
 "cells": [
  {
   "cell_type": "code",
   "execution_count": 1,
   "id": "e3ee7e55",
   "metadata": {},
   "outputs": [],
   "source": [
    "import numpy as np\n",
    "import pandas as pd\n",
    "import matplotlib.pyplot as plt"
   ]
  },
  {
   "cell_type": "code",
   "execution_count": 2,
   "id": "3e71f089",
   "metadata": {},
   "outputs": [],
   "source": [
    "df=pd.read_csv('Churn_Modelling.csv')"
   ]
  },
  {
   "cell_type": "code",
   "execution_count": 3,
   "id": "a58147bc",
   "metadata": {},
   "outputs": [
    {
     "data": {
      "text/html": [
       "<div>\n",
       "<style scoped>\n",
       "    .dataframe tbody tr th:only-of-type {\n",
       "        vertical-align: middle;\n",
       "    }\n",
       "\n",
       "    .dataframe tbody tr th {\n",
       "        vertical-align: top;\n",
       "    }\n",
       "\n",
       "    .dataframe thead th {\n",
       "        text-align: right;\n",
       "    }\n",
       "</style>\n",
       "<table border=\"1\" class=\"dataframe\">\n",
       "  <thead>\n",
       "    <tr style=\"text-align: right;\">\n",
       "      <th></th>\n",
       "      <th>RowNumber</th>\n",
       "      <th>CustomerId</th>\n",
       "      <th>Surname</th>\n",
       "      <th>CreditScore</th>\n",
       "      <th>Geography</th>\n",
       "      <th>Gender</th>\n",
       "      <th>Age</th>\n",
       "      <th>Tenure</th>\n",
       "      <th>Balance</th>\n",
       "      <th>NumOfProducts</th>\n",
       "      <th>HasCrCard</th>\n",
       "      <th>IsActiveMember</th>\n",
       "      <th>EstimatedSalary</th>\n",
       "      <th>Exited</th>\n",
       "    </tr>\n",
       "  </thead>\n",
       "  <tbody>\n",
       "    <tr>\n",
       "      <th>0</th>\n",
       "      <td>1</td>\n",
       "      <td>15634602</td>\n",
       "      <td>Hargrave</td>\n",
       "      <td>619</td>\n",
       "      <td>France</td>\n",
       "      <td>Female</td>\n",
       "      <td>42</td>\n",
       "      <td>2</td>\n",
       "      <td>0.00</td>\n",
       "      <td>1</td>\n",
       "      <td>1</td>\n",
       "      <td>1</td>\n",
       "      <td>101348.88</td>\n",
       "      <td>1</td>\n",
       "    </tr>\n",
       "    <tr>\n",
       "      <th>1</th>\n",
       "      <td>2</td>\n",
       "      <td>15647311</td>\n",
       "      <td>Hill</td>\n",
       "      <td>608</td>\n",
       "      <td>Spain</td>\n",
       "      <td>Female</td>\n",
       "      <td>41</td>\n",
       "      <td>1</td>\n",
       "      <td>83807.86</td>\n",
       "      <td>1</td>\n",
       "      <td>0</td>\n",
       "      <td>1</td>\n",
       "      <td>112542.58</td>\n",
       "      <td>0</td>\n",
       "    </tr>\n",
       "    <tr>\n",
       "      <th>2</th>\n",
       "      <td>3</td>\n",
       "      <td>15619304</td>\n",
       "      <td>Onio</td>\n",
       "      <td>502</td>\n",
       "      <td>France</td>\n",
       "      <td>Female</td>\n",
       "      <td>42</td>\n",
       "      <td>8</td>\n",
       "      <td>159660.80</td>\n",
       "      <td>3</td>\n",
       "      <td>1</td>\n",
       "      <td>0</td>\n",
       "      <td>113931.57</td>\n",
       "      <td>1</td>\n",
       "    </tr>\n",
       "    <tr>\n",
       "      <th>3</th>\n",
       "      <td>4</td>\n",
       "      <td>15701354</td>\n",
       "      <td>Boni</td>\n",
       "      <td>699</td>\n",
       "      <td>France</td>\n",
       "      <td>Female</td>\n",
       "      <td>39</td>\n",
       "      <td>1</td>\n",
       "      <td>0.00</td>\n",
       "      <td>2</td>\n",
       "      <td>0</td>\n",
       "      <td>0</td>\n",
       "      <td>93826.63</td>\n",
       "      <td>0</td>\n",
       "    </tr>\n",
       "    <tr>\n",
       "      <th>4</th>\n",
       "      <td>5</td>\n",
       "      <td>15737888</td>\n",
       "      <td>Mitchell</td>\n",
       "      <td>850</td>\n",
       "      <td>Spain</td>\n",
       "      <td>Female</td>\n",
       "      <td>43</td>\n",
       "      <td>2</td>\n",
       "      <td>125510.82</td>\n",
       "      <td>1</td>\n",
       "      <td>1</td>\n",
       "      <td>1</td>\n",
       "      <td>79084.10</td>\n",
       "      <td>0</td>\n",
       "    </tr>\n",
       "  </tbody>\n",
       "</table>\n",
       "</div>"
      ],
      "text/plain": [
       "   RowNumber  CustomerId   Surname  CreditScore Geography  Gender  Age  \\\n",
       "0          1    15634602  Hargrave          619    France  Female   42   \n",
       "1          2    15647311      Hill          608     Spain  Female   41   \n",
       "2          3    15619304      Onio          502    France  Female   42   \n",
       "3          4    15701354      Boni          699    France  Female   39   \n",
       "4          5    15737888  Mitchell          850     Spain  Female   43   \n",
       "\n",
       "   Tenure    Balance  NumOfProducts  HasCrCard  IsActiveMember  \\\n",
       "0       2       0.00              1          1               1   \n",
       "1       1   83807.86              1          0               1   \n",
       "2       8  159660.80              3          1               0   \n",
       "3       1       0.00              2          0               0   \n",
       "4       2  125510.82              1          1               1   \n",
       "\n",
       "   EstimatedSalary  Exited  \n",
       "0        101348.88       1  \n",
       "1        112542.58       0  \n",
       "2        113931.57       1  \n",
       "3         93826.63       0  \n",
       "4         79084.10       0  "
      ]
     },
     "execution_count": 3,
     "metadata": {},
     "output_type": "execute_result"
    }
   ],
   "source": [
    "df.head()"
   ]
  },
  {
   "cell_type": "code",
   "execution_count": 4,
   "id": "3cf48753",
   "metadata": {},
   "outputs": [],
   "source": [
    "df.drop(['RowNumber','CustomerId','Surname'],axis=1, inplace=True)"
   ]
  },
  {
   "cell_type": "code",
   "execution_count": 5,
   "id": "313c1006",
   "metadata": {},
   "outputs": [
    {
     "data": {
      "text/html": [
       "<div>\n",
       "<style scoped>\n",
       "    .dataframe tbody tr th:only-of-type {\n",
       "        vertical-align: middle;\n",
       "    }\n",
       "\n",
       "    .dataframe tbody tr th {\n",
       "        vertical-align: top;\n",
       "    }\n",
       "\n",
       "    .dataframe thead th {\n",
       "        text-align: right;\n",
       "    }\n",
       "</style>\n",
       "<table border=\"1\" class=\"dataframe\">\n",
       "  <thead>\n",
       "    <tr style=\"text-align: right;\">\n",
       "      <th></th>\n",
       "      <th>CreditScore</th>\n",
       "      <th>Geography</th>\n",
       "      <th>Gender</th>\n",
       "      <th>Age</th>\n",
       "      <th>Tenure</th>\n",
       "      <th>Balance</th>\n",
       "      <th>NumOfProducts</th>\n",
       "      <th>HasCrCard</th>\n",
       "      <th>IsActiveMember</th>\n",
       "      <th>EstimatedSalary</th>\n",
       "      <th>Exited</th>\n",
       "    </tr>\n",
       "  </thead>\n",
       "  <tbody>\n",
       "    <tr>\n",
       "      <th>0</th>\n",
       "      <td>619</td>\n",
       "      <td>France</td>\n",
       "      <td>Female</td>\n",
       "      <td>42</td>\n",
       "      <td>2</td>\n",
       "      <td>0.00</td>\n",
       "      <td>1</td>\n",
       "      <td>1</td>\n",
       "      <td>1</td>\n",
       "      <td>101348.88</td>\n",
       "      <td>1</td>\n",
       "    </tr>\n",
       "    <tr>\n",
       "      <th>1</th>\n",
       "      <td>608</td>\n",
       "      <td>Spain</td>\n",
       "      <td>Female</td>\n",
       "      <td>41</td>\n",
       "      <td>1</td>\n",
       "      <td>83807.86</td>\n",
       "      <td>1</td>\n",
       "      <td>0</td>\n",
       "      <td>1</td>\n",
       "      <td>112542.58</td>\n",
       "      <td>0</td>\n",
       "    </tr>\n",
       "    <tr>\n",
       "      <th>2</th>\n",
       "      <td>502</td>\n",
       "      <td>France</td>\n",
       "      <td>Female</td>\n",
       "      <td>42</td>\n",
       "      <td>8</td>\n",
       "      <td>159660.80</td>\n",
       "      <td>3</td>\n",
       "      <td>1</td>\n",
       "      <td>0</td>\n",
       "      <td>113931.57</td>\n",
       "      <td>1</td>\n",
       "    </tr>\n",
       "    <tr>\n",
       "      <th>3</th>\n",
       "      <td>699</td>\n",
       "      <td>France</td>\n",
       "      <td>Female</td>\n",
       "      <td>39</td>\n",
       "      <td>1</td>\n",
       "      <td>0.00</td>\n",
       "      <td>2</td>\n",
       "      <td>0</td>\n",
       "      <td>0</td>\n",
       "      <td>93826.63</td>\n",
       "      <td>0</td>\n",
       "    </tr>\n",
       "    <tr>\n",
       "      <th>4</th>\n",
       "      <td>850</td>\n",
       "      <td>Spain</td>\n",
       "      <td>Female</td>\n",
       "      <td>43</td>\n",
       "      <td>2</td>\n",
       "      <td>125510.82</td>\n",
       "      <td>1</td>\n",
       "      <td>1</td>\n",
       "      <td>1</td>\n",
       "      <td>79084.10</td>\n",
       "      <td>0</td>\n",
       "    </tr>\n",
       "  </tbody>\n",
       "</table>\n",
       "</div>"
      ],
      "text/plain": [
       "   CreditScore Geography  Gender  Age  Tenure    Balance  NumOfProducts  \\\n",
       "0          619    France  Female   42       2       0.00              1   \n",
       "1          608     Spain  Female   41       1   83807.86              1   \n",
       "2          502    France  Female   42       8  159660.80              3   \n",
       "3          699    France  Female   39       1       0.00              2   \n",
       "4          850     Spain  Female   43       2  125510.82              1   \n",
       "\n",
       "   HasCrCard  IsActiveMember  EstimatedSalary  Exited  \n",
       "0          1               1        101348.88       1  \n",
       "1          0               1        112542.58       0  \n",
       "2          1               0        113931.57       1  \n",
       "3          0               0         93826.63       0  \n",
       "4          1               1         79084.10       0  "
      ]
     },
     "execution_count": 5,
     "metadata": {},
     "output_type": "execute_result"
    }
   ],
   "source": [
    "df.head()"
   ]
  },
  {
   "cell_type": "code",
   "execution_count": 6,
   "id": "4007ea81",
   "metadata": {},
   "outputs": [
    {
     "data": {
      "text/plain": [
       "CreditScore        0\n",
       "Geography          0\n",
       "Gender             0\n",
       "Age                0\n",
       "Tenure             0\n",
       "Balance            0\n",
       "NumOfProducts      0\n",
       "HasCrCard          0\n",
       "IsActiveMember     0\n",
       "EstimatedSalary    0\n",
       "Exited             0\n",
       "dtype: int64"
      ]
     },
     "execution_count": 6,
     "metadata": {},
     "output_type": "execute_result"
    }
   ],
   "source": [
    "df.isnull().sum()"
   ]
  },
  {
   "cell_type": "code",
   "execution_count": 7,
   "id": "3c506391",
   "metadata": {},
   "outputs": [],
   "source": [
    "df['Gender'].replace(['Female','Male'], [0,1], inplace=True)"
   ]
  },
  {
   "cell_type": "code",
   "execution_count": 8,
   "id": "21d5dea6",
   "metadata": {},
   "outputs": [
    {
     "data": {
      "text/plain": [
       "1    5457\n",
       "0    4543\n",
       "Name: Gender, dtype: int64"
      ]
     },
     "execution_count": 8,
     "metadata": {},
     "output_type": "execute_result"
    }
   ],
   "source": [
    "df['Gender'].value_counts()"
   ]
  },
  {
   "cell_type": "code",
   "execution_count": 9,
   "id": "2f0a2091",
   "metadata": {},
   "outputs": [
    {
     "data": {
      "text/html": [
       "<div>\n",
       "<style scoped>\n",
       "    .dataframe tbody tr th:only-of-type {\n",
       "        vertical-align: middle;\n",
       "    }\n",
       "\n",
       "    .dataframe tbody tr th {\n",
       "        vertical-align: top;\n",
       "    }\n",
       "\n",
       "    .dataframe thead th {\n",
       "        text-align: right;\n",
       "    }\n",
       "</style>\n",
       "<table border=\"1\" class=\"dataframe\">\n",
       "  <thead>\n",
       "    <tr style=\"text-align: right;\">\n",
       "      <th></th>\n",
       "      <th>Geography</th>\n",
       "    </tr>\n",
       "  </thead>\n",
       "  <tbody>\n",
       "    <tr>\n",
       "      <th>0</th>\n",
       "      <td>France</td>\n",
       "    </tr>\n",
       "    <tr>\n",
       "      <th>1</th>\n",
       "      <td>Spain</td>\n",
       "    </tr>\n",
       "    <tr>\n",
       "      <th>2</th>\n",
       "      <td>France</td>\n",
       "    </tr>\n",
       "    <tr>\n",
       "      <th>3</th>\n",
       "      <td>France</td>\n",
       "    </tr>\n",
       "    <tr>\n",
       "      <th>4</th>\n",
       "      <td>Spain</td>\n",
       "    </tr>\n",
       "    <tr>\n",
       "      <th>...</th>\n",
       "      <td>...</td>\n",
       "    </tr>\n",
       "    <tr>\n",
       "      <th>9995</th>\n",
       "      <td>France</td>\n",
       "    </tr>\n",
       "    <tr>\n",
       "      <th>9996</th>\n",
       "      <td>France</td>\n",
       "    </tr>\n",
       "    <tr>\n",
       "      <th>9997</th>\n",
       "      <td>France</td>\n",
       "    </tr>\n",
       "    <tr>\n",
       "      <th>9998</th>\n",
       "      <td>Germany</td>\n",
       "    </tr>\n",
       "    <tr>\n",
       "      <th>9999</th>\n",
       "      <td>France</td>\n",
       "    </tr>\n",
       "  </tbody>\n",
       "</table>\n",
       "<p>10000 rows × 1 columns</p>\n",
       "</div>"
      ],
      "text/plain": [
       "     Geography\n",
       "0       France\n",
       "1        Spain\n",
       "2       France\n",
       "3       France\n",
       "4        Spain\n",
       "...        ...\n",
       "9995    France\n",
       "9996    France\n",
       "9997    France\n",
       "9998   Germany\n",
       "9999    France\n",
       "\n",
       "[10000 rows x 1 columns]"
      ]
     },
     "execution_count": 9,
     "metadata": {},
     "output_type": "execute_result"
    }
   ],
   "source": [
    "cat_data=df.select_dtypes(include='object')\n",
    "cat_data"
   ]
  },
  {
   "cell_type": "code",
   "execution_count": 10,
   "id": "ba54550e",
   "metadata": {},
   "outputs": [
    {
     "data": {
      "text/html": [
       "<style>#sk-container-id-1 {color: black;}#sk-container-id-1 pre{padding: 0;}#sk-container-id-1 div.sk-toggleable {background-color: white;}#sk-container-id-1 label.sk-toggleable__label {cursor: pointer;display: block;width: 100%;margin-bottom: 0;padding: 0.3em;box-sizing: border-box;text-align: center;}#sk-container-id-1 label.sk-toggleable__label-arrow:before {content: \"▸\";float: left;margin-right: 0.25em;color: #696969;}#sk-container-id-1 label.sk-toggleable__label-arrow:hover:before {color: black;}#sk-container-id-1 div.sk-estimator:hover label.sk-toggleable__label-arrow:before {color: black;}#sk-container-id-1 div.sk-toggleable__content {max-height: 0;max-width: 0;overflow: hidden;text-align: left;background-color: #f0f8ff;}#sk-container-id-1 div.sk-toggleable__content pre {margin: 0.2em;color: black;border-radius: 0.25em;background-color: #f0f8ff;}#sk-container-id-1 input.sk-toggleable__control:checked~div.sk-toggleable__content {max-height: 200px;max-width: 100%;overflow: auto;}#sk-container-id-1 input.sk-toggleable__control:checked~label.sk-toggleable__label-arrow:before {content: \"▾\";}#sk-container-id-1 div.sk-estimator input.sk-toggleable__control:checked~label.sk-toggleable__label {background-color: #d4ebff;}#sk-container-id-1 div.sk-label input.sk-toggleable__control:checked~label.sk-toggleable__label {background-color: #d4ebff;}#sk-container-id-1 input.sk-hidden--visually {border: 0;clip: rect(1px 1px 1px 1px);clip: rect(1px, 1px, 1px, 1px);height: 1px;margin: -1px;overflow: hidden;padding: 0;position: absolute;width: 1px;}#sk-container-id-1 div.sk-estimator {font-family: monospace;background-color: #f0f8ff;border: 1px dotted black;border-radius: 0.25em;box-sizing: border-box;margin-bottom: 0.5em;}#sk-container-id-1 div.sk-estimator:hover {background-color: #d4ebff;}#sk-container-id-1 div.sk-parallel-item::after {content: \"\";width: 100%;border-bottom: 1px solid gray;flex-grow: 1;}#sk-container-id-1 div.sk-label:hover label.sk-toggleable__label {background-color: #d4ebff;}#sk-container-id-1 div.sk-serial::before {content: \"\";position: absolute;border-left: 1px solid gray;box-sizing: border-box;top: 0;bottom: 0;left: 50%;z-index: 0;}#sk-container-id-1 div.sk-serial {display: flex;flex-direction: column;align-items: center;background-color: white;padding-right: 0.2em;padding-left: 0.2em;position: relative;}#sk-container-id-1 div.sk-item {position: relative;z-index: 1;}#sk-container-id-1 div.sk-parallel {display: flex;align-items: stretch;justify-content: center;background-color: white;position: relative;}#sk-container-id-1 div.sk-item::before, #sk-container-id-1 div.sk-parallel-item::before {content: \"\";position: absolute;border-left: 1px solid gray;box-sizing: border-box;top: 0;bottom: 0;left: 50%;z-index: -1;}#sk-container-id-1 div.sk-parallel-item {display: flex;flex-direction: column;z-index: 1;position: relative;background-color: white;}#sk-container-id-1 div.sk-parallel-item:first-child::after {align-self: flex-end;width: 50%;}#sk-container-id-1 div.sk-parallel-item:last-child::after {align-self: flex-start;width: 50%;}#sk-container-id-1 div.sk-parallel-item:only-child::after {width: 0;}#sk-container-id-1 div.sk-dashed-wrapped {border: 1px dashed gray;margin: 0 0.4em 0.5em 0.4em;box-sizing: border-box;padding-bottom: 0.4em;background-color: white;}#sk-container-id-1 div.sk-label label {font-family: monospace;font-weight: bold;display: inline-block;line-height: 1.2em;}#sk-container-id-1 div.sk-label-container {text-align: center;}#sk-container-id-1 div.sk-container {/* jupyter's `normalize.less` sets `[hidden] { display: none; }` but bootstrap.min.css set `[hidden] { display: none !important; }` so we also need the `!important` here to be able to override the default hidden behavior on the sphinx rendered scikit-learn.org. See: https://github.com/scikit-learn/scikit-learn/issues/21755 */display: inline-block !important;position: relative;}#sk-container-id-1 div.sk-text-repr-fallback {display: none;}</style><div id=\"sk-container-id-1\" class=\"sk-top-container\"><div class=\"sk-text-repr-fallback\"><pre>OneHotEncoder(handle_unknown=&#x27;ignore&#x27;)</pre><b>In a Jupyter environment, please rerun this cell to show the HTML representation or trust the notebook. <br />On GitHub, the HTML representation is unable to render, please try loading this page with nbviewer.org.</b></div><div class=\"sk-container\" hidden><div class=\"sk-item\"><div class=\"sk-estimator sk-toggleable\"><input class=\"sk-toggleable__control sk-hidden--visually\" id=\"sk-estimator-id-1\" type=\"checkbox\" checked><label for=\"sk-estimator-id-1\" class=\"sk-toggleable__label sk-toggleable__label-arrow\">OneHotEncoder</label><div class=\"sk-toggleable__content\"><pre>OneHotEncoder(handle_unknown=&#x27;ignore&#x27;)</pre></div></div></div></div></div>"
      ],
      "text/plain": [
       "OneHotEncoder(handle_unknown='ignore')"
      ]
     },
     "execution_count": 10,
     "metadata": {},
     "output_type": "execute_result"
    }
   ],
   "source": [
    "from sklearn.preprocessing import OneHotEncoder\n",
    "\n",
    "ohe=OneHotEncoder(handle_unknown='ignore')\n",
    "ohe.fit(cat_data)"
   ]
  },
  {
   "cell_type": "code",
   "execution_count": 11,
   "id": "de916c2f",
   "metadata": {},
   "outputs": [
    {
     "data": {
      "text/plain": [
       "array(['Geography_France', 'Geography_Germany', 'Geography_Spain'],\n",
       "      dtype=object)"
      ]
     },
     "execution_count": 11,
     "metadata": {},
     "output_type": "execute_result"
    }
   ],
   "source": [
    "ohe_features=ohe.get_feature_names_out(input_features=cat_data.columns)\n",
    "ohe_features"
   ]
  },
  {
   "cell_type": "code",
   "execution_count": 12,
   "id": "725dc3cf",
   "metadata": {},
   "outputs": [
    {
     "data": {
      "text/html": [
       "<div>\n",
       "<style scoped>\n",
       "    .dataframe tbody tr th:only-of-type {\n",
       "        vertical-align: middle;\n",
       "    }\n",
       "\n",
       "    .dataframe tbody tr th {\n",
       "        vertical-align: top;\n",
       "    }\n",
       "\n",
       "    .dataframe thead th {\n",
       "        text-align: right;\n",
       "    }\n",
       "</style>\n",
       "<table border=\"1\" class=\"dataframe\">\n",
       "  <thead>\n",
       "    <tr style=\"text-align: right;\">\n",
       "      <th></th>\n",
       "      <th>Geography_France</th>\n",
       "      <th>Geography_Germany</th>\n",
       "      <th>Geography_Spain</th>\n",
       "    </tr>\n",
       "  </thead>\n",
       "  <tbody>\n",
       "    <tr>\n",
       "      <th>0</th>\n",
       "      <td>1.0</td>\n",
       "      <td>0.0</td>\n",
       "      <td>0.0</td>\n",
       "    </tr>\n",
       "    <tr>\n",
       "      <th>1</th>\n",
       "      <td>0.0</td>\n",
       "      <td>0.0</td>\n",
       "      <td>1.0</td>\n",
       "    </tr>\n",
       "    <tr>\n",
       "      <th>2</th>\n",
       "      <td>1.0</td>\n",
       "      <td>0.0</td>\n",
       "      <td>0.0</td>\n",
       "    </tr>\n",
       "    <tr>\n",
       "      <th>3</th>\n",
       "      <td>1.0</td>\n",
       "      <td>0.0</td>\n",
       "      <td>0.0</td>\n",
       "    </tr>\n",
       "    <tr>\n",
       "      <th>4</th>\n",
       "      <td>0.0</td>\n",
       "      <td>0.0</td>\n",
       "      <td>1.0</td>\n",
       "    </tr>\n",
       "  </tbody>\n",
       "</table>\n",
       "</div>"
      ],
      "text/plain": [
       "   Geography_France  Geography_Germany  Geography_Spain\n",
       "0               1.0                0.0              0.0\n",
       "1               0.0                0.0              1.0\n",
       "2               1.0                0.0              0.0\n",
       "3               1.0                0.0              0.0\n",
       "4               0.0                0.0              1.0"
      ]
     },
     "execution_count": 12,
     "metadata": {},
     "output_type": "execute_result"
    }
   ],
   "source": [
    "x_train_cat=pd.DataFrame(ohe.transform(cat_data).toarray(), columns=ohe_features)\n",
    "x_train_cat.head()"
   ]
  },
  {
   "cell_type": "code",
   "execution_count": 13,
   "id": "369d00ca",
   "metadata": {},
   "outputs": [
    {
     "data": {
      "text/html": [
       "<div>\n",
       "<style scoped>\n",
       "    .dataframe tbody tr th:only-of-type {\n",
       "        vertical-align: middle;\n",
       "    }\n",
       "\n",
       "    .dataframe tbody tr th {\n",
       "        vertical-align: top;\n",
       "    }\n",
       "\n",
       "    .dataframe thead th {\n",
       "        text-align: right;\n",
       "    }\n",
       "</style>\n",
       "<table border=\"1\" class=\"dataframe\">\n",
       "  <thead>\n",
       "    <tr style=\"text-align: right;\">\n",
       "      <th></th>\n",
       "      <th>Geography_France</th>\n",
       "      <th>Geography_Germany</th>\n",
       "      <th>Geography_Spain</th>\n",
       "      <th>CreditScore</th>\n",
       "      <th>Gender</th>\n",
       "      <th>Age</th>\n",
       "      <th>Tenure</th>\n",
       "      <th>Balance</th>\n",
       "      <th>NumOfProducts</th>\n",
       "      <th>HasCrCard</th>\n",
       "      <th>IsActiveMember</th>\n",
       "      <th>EstimatedSalary</th>\n",
       "      <th>Exited</th>\n",
       "    </tr>\n",
       "  </thead>\n",
       "  <tbody>\n",
       "    <tr>\n",
       "      <th>0</th>\n",
       "      <td>1.0</td>\n",
       "      <td>0.0</td>\n",
       "      <td>0.0</td>\n",
       "      <td>619</td>\n",
       "      <td>0</td>\n",
       "      <td>42</td>\n",
       "      <td>2</td>\n",
       "      <td>0.00</td>\n",
       "      <td>1</td>\n",
       "      <td>1</td>\n",
       "      <td>1</td>\n",
       "      <td>101348.88</td>\n",
       "      <td>1</td>\n",
       "    </tr>\n",
       "    <tr>\n",
       "      <th>1</th>\n",
       "      <td>0.0</td>\n",
       "      <td>0.0</td>\n",
       "      <td>1.0</td>\n",
       "      <td>608</td>\n",
       "      <td>0</td>\n",
       "      <td>41</td>\n",
       "      <td>1</td>\n",
       "      <td>83807.86</td>\n",
       "      <td>1</td>\n",
       "      <td>0</td>\n",
       "      <td>1</td>\n",
       "      <td>112542.58</td>\n",
       "      <td>0</td>\n",
       "    </tr>\n",
       "    <tr>\n",
       "      <th>2</th>\n",
       "      <td>1.0</td>\n",
       "      <td>0.0</td>\n",
       "      <td>0.0</td>\n",
       "      <td>502</td>\n",
       "      <td>0</td>\n",
       "      <td>42</td>\n",
       "      <td>8</td>\n",
       "      <td>159660.80</td>\n",
       "      <td>3</td>\n",
       "      <td>1</td>\n",
       "      <td>0</td>\n",
       "      <td>113931.57</td>\n",
       "      <td>1</td>\n",
       "    </tr>\n",
       "    <tr>\n",
       "      <th>3</th>\n",
       "      <td>1.0</td>\n",
       "      <td>0.0</td>\n",
       "      <td>0.0</td>\n",
       "      <td>699</td>\n",
       "      <td>0</td>\n",
       "      <td>39</td>\n",
       "      <td>1</td>\n",
       "      <td>0.00</td>\n",
       "      <td>2</td>\n",
       "      <td>0</td>\n",
       "      <td>0</td>\n",
       "      <td>93826.63</td>\n",
       "      <td>0</td>\n",
       "    </tr>\n",
       "    <tr>\n",
       "      <th>4</th>\n",
       "      <td>0.0</td>\n",
       "      <td>0.0</td>\n",
       "      <td>1.0</td>\n",
       "      <td>850</td>\n",
       "      <td>0</td>\n",
       "      <td>43</td>\n",
       "      <td>2</td>\n",
       "      <td>125510.82</td>\n",
       "      <td>1</td>\n",
       "      <td>1</td>\n",
       "      <td>1</td>\n",
       "      <td>79084.10</td>\n",
       "      <td>0</td>\n",
       "    </tr>\n",
       "    <tr>\n",
       "      <th>...</th>\n",
       "      <td>...</td>\n",
       "      <td>...</td>\n",
       "      <td>...</td>\n",
       "      <td>...</td>\n",
       "      <td>...</td>\n",
       "      <td>...</td>\n",
       "      <td>...</td>\n",
       "      <td>...</td>\n",
       "      <td>...</td>\n",
       "      <td>...</td>\n",
       "      <td>...</td>\n",
       "      <td>...</td>\n",
       "      <td>...</td>\n",
       "    </tr>\n",
       "    <tr>\n",
       "      <th>9995</th>\n",
       "      <td>1.0</td>\n",
       "      <td>0.0</td>\n",
       "      <td>0.0</td>\n",
       "      <td>771</td>\n",
       "      <td>1</td>\n",
       "      <td>39</td>\n",
       "      <td>5</td>\n",
       "      <td>0.00</td>\n",
       "      <td>2</td>\n",
       "      <td>1</td>\n",
       "      <td>0</td>\n",
       "      <td>96270.64</td>\n",
       "      <td>0</td>\n",
       "    </tr>\n",
       "    <tr>\n",
       "      <th>9996</th>\n",
       "      <td>1.0</td>\n",
       "      <td>0.0</td>\n",
       "      <td>0.0</td>\n",
       "      <td>516</td>\n",
       "      <td>1</td>\n",
       "      <td>35</td>\n",
       "      <td>10</td>\n",
       "      <td>57369.61</td>\n",
       "      <td>1</td>\n",
       "      <td>1</td>\n",
       "      <td>1</td>\n",
       "      <td>101699.77</td>\n",
       "      <td>0</td>\n",
       "    </tr>\n",
       "    <tr>\n",
       "      <th>9997</th>\n",
       "      <td>1.0</td>\n",
       "      <td>0.0</td>\n",
       "      <td>0.0</td>\n",
       "      <td>709</td>\n",
       "      <td>0</td>\n",
       "      <td>36</td>\n",
       "      <td>7</td>\n",
       "      <td>0.00</td>\n",
       "      <td>1</td>\n",
       "      <td>0</td>\n",
       "      <td>1</td>\n",
       "      <td>42085.58</td>\n",
       "      <td>1</td>\n",
       "    </tr>\n",
       "    <tr>\n",
       "      <th>9998</th>\n",
       "      <td>0.0</td>\n",
       "      <td>1.0</td>\n",
       "      <td>0.0</td>\n",
       "      <td>772</td>\n",
       "      <td>1</td>\n",
       "      <td>42</td>\n",
       "      <td>3</td>\n",
       "      <td>75075.31</td>\n",
       "      <td>2</td>\n",
       "      <td>1</td>\n",
       "      <td>0</td>\n",
       "      <td>92888.52</td>\n",
       "      <td>1</td>\n",
       "    </tr>\n",
       "    <tr>\n",
       "      <th>9999</th>\n",
       "      <td>1.0</td>\n",
       "      <td>0.0</td>\n",
       "      <td>0.0</td>\n",
       "      <td>792</td>\n",
       "      <td>0</td>\n",
       "      <td>28</td>\n",
       "      <td>4</td>\n",
       "      <td>130142.79</td>\n",
       "      <td>1</td>\n",
       "      <td>1</td>\n",
       "      <td>0</td>\n",
       "      <td>38190.78</td>\n",
       "      <td>0</td>\n",
       "    </tr>\n",
       "  </tbody>\n",
       "</table>\n",
       "<p>10000 rows × 13 columns</p>\n",
       "</div>"
      ],
      "text/plain": [
       "      Geography_France  Geography_Germany  Geography_Spain  CreditScore  \\\n",
       "0                  1.0                0.0              0.0          619   \n",
       "1                  0.0                0.0              1.0          608   \n",
       "2                  1.0                0.0              0.0          502   \n",
       "3                  1.0                0.0              0.0          699   \n",
       "4                  0.0                0.0              1.0          850   \n",
       "...                ...                ...              ...          ...   \n",
       "9995               1.0                0.0              0.0          771   \n",
       "9996               1.0                0.0              0.0          516   \n",
       "9997               1.0                0.0              0.0          709   \n",
       "9998               0.0                1.0              0.0          772   \n",
       "9999               1.0                0.0              0.0          792   \n",
       "\n",
       "      Gender  Age  Tenure    Balance  NumOfProducts  HasCrCard  \\\n",
       "0          0   42       2       0.00              1          1   \n",
       "1          0   41       1   83807.86              1          0   \n",
       "2          0   42       8  159660.80              3          1   \n",
       "3          0   39       1       0.00              2          0   \n",
       "4          0   43       2  125510.82              1          1   \n",
       "...      ...  ...     ...        ...            ...        ...   \n",
       "9995       1   39       5       0.00              2          1   \n",
       "9996       1   35      10   57369.61              1          1   \n",
       "9997       0   36       7       0.00              1          0   \n",
       "9998       1   42       3   75075.31              2          1   \n",
       "9999       0   28       4  130142.79              1          1   \n",
       "\n",
       "      IsActiveMember  EstimatedSalary  Exited  \n",
       "0                  1        101348.88       1  \n",
       "1                  1        112542.58       0  \n",
       "2                  0        113931.57       1  \n",
       "3                  0         93826.63       0  \n",
       "4                  1         79084.10       0  \n",
       "...              ...              ...     ...  \n",
       "9995               0         96270.64       0  \n",
       "9996               1        101699.77       0  \n",
       "9997               1         42085.58       1  \n",
       "9998               0         92888.52       1  \n",
       "9999               0         38190.78       0  \n",
       "\n",
       "[10000 rows x 13 columns]"
      ]
     },
     "execution_count": 13,
     "metadata": {},
     "output_type": "execute_result"
    }
   ],
   "source": [
    "num_data=df.select_dtypes(exclude='object')\n",
    "data=pd.concat([x_train_cat,num_data],axis=1)\n",
    "data"
   ]
  },
  {
   "cell_type": "code",
   "execution_count": 14,
   "id": "7f2592d6",
   "metadata": {},
   "outputs": [],
   "source": [
    "from sklearn.preprocessing import StandardScaler, PolynomialFeatures\n",
    "from sklearn.linear_model import LinearRegression\n",
    "from sklearn.model_selection import train_test_split\n",
    "from sklearn.metrics import mean_squared_error, classification_report,accuracy_score,f1_score,precision_recall_curve"
   ]
  },
  {
   "cell_type": "code",
   "execution_count": 15,
   "id": "40aa9536",
   "metadata": {},
   "outputs": [],
   "source": [
    "x=data.drop(columns='Exited')\n",
    "y=data['Exited']"
   ]
  },
  {
   "cell_type": "code",
   "execution_count": 16,
   "id": "e4d593a5",
   "metadata": {},
   "outputs": [
    {
     "data": {
      "text/plain": [
       "((8000, 12), (2000, 12))"
      ]
     },
     "execution_count": 16,
     "metadata": {},
     "output_type": "execute_result"
    }
   ],
   "source": [
    "x_train, x_test, y_train, y_test= train_test_split(x,y,test_size=0.2, random_state=42)\n",
    "x_train.shape, x_test.shape"
   ]
  },
  {
   "cell_type": "code",
   "execution_count": 17,
   "id": "43145a38",
   "metadata": {},
   "outputs": [],
   "source": [
    "scaled=StandardScaler()\n",
    "x_train_s= scaled.fit_transform(x_train)"
   ]
  },
  {
   "cell_type": "code",
   "execution_count": 18,
   "id": "bf060def",
   "metadata": {},
   "outputs": [],
   "source": [
    "lin_mod=LinearRegression().fit(x_train_s,y_train)\n",
    "y_pred=lin_mod.predict(x_train_s)"
   ]
  },
  {
   "cell_type": "code",
   "execution_count": 19,
   "id": "189c43a4",
   "metadata": {},
   "outputs": [
    {
     "data": {
      "text/plain": [
       "array([0., 0., 0., ..., 0., 0., 1.])"
      ]
     },
     "execution_count": 19,
     "metadata": {},
     "output_type": "execute_result"
    }
   ],
   "source": [
    "yhat=np.empty_like(y_pred)\n",
    "for y in range(len(y_pred)):\n",
    "    if y_pred[y]>0.3:\n",
    "        yhat[y]=1\n",
    "    else:\n",
    "        yhat[y]=0\n",
    "        \n",
    "yhat"
   ]
  },
  {
   "cell_type": "code",
   "execution_count": 20,
   "id": "e11be2bf",
   "metadata": {},
   "outputs": [
    {
     "data": {
      "text/plain": [
       "0.76425"
      ]
     },
     "execution_count": 20,
     "metadata": {},
     "output_type": "execute_result"
    }
   ],
   "source": [
    "accuracy_score(yhat,y_train)"
   ]
  },
  {
   "cell_type": "code",
   "execution_count": 21,
   "id": "ea1238ba",
   "metadata": {},
   "outputs": [
    {
     "data": {
      "text/plain": [
       "0.48777838131450296"
      ]
     },
     "execution_count": 21,
     "metadata": {},
     "output_type": "execute_result"
    }
   ],
   "source": [
    "f1_score(yhat,y_train)"
   ]
  },
  {
   "cell_type": "code",
   "execution_count": 22,
   "id": "57749ab4",
   "metadata": {},
   "outputs": [],
   "source": [
    "x_test_s=scaled.transform(x_test)\n",
    "y_pred=lin_mod.predict(x_test_s)"
   ]
  },
  {
   "cell_type": "code",
   "execution_count": 23,
   "id": "c11d106d",
   "metadata": {},
   "outputs": [
    {
     "data": {
      "text/plain": [
       "array([0., 0., 1., ..., 1., 0., 0.])"
      ]
     },
     "execution_count": 23,
     "metadata": {},
     "output_type": "execute_result"
    }
   ],
   "source": [
    "yhat=np.empty_like(y_pred)\n",
    "for y in range(len(y_pred)):\n",
    "    if y_pred[y]>0.3:\n",
    "        yhat[y]=1\n",
    "    else:\n",
    "        yhat[y]=0\n",
    "        \n",
    "yhat"
   ]
  },
  {
   "cell_type": "code",
   "execution_count": 24,
   "id": "83ca703e",
   "metadata": {},
   "outputs": [
    {
     "data": {
      "text/plain": [
       "0.7755"
      ]
     },
     "execution_count": 24,
     "metadata": {},
     "output_type": "execute_result"
    }
   ],
   "source": [
    "accuracy_score(yhat,y_test)"
   ]
  },
  {
   "cell_type": "code",
   "execution_count": 25,
   "id": "0a98f74c",
   "metadata": {},
   "outputs": [
    {
     "data": {
      "text/plain": [
       "0.5114254624591947"
      ]
     },
     "execution_count": 25,
     "metadata": {},
     "output_type": "execute_result"
    }
   ],
   "source": [
    "f1_score(yhat, y_test)"
   ]
  },
  {
   "cell_type": "code",
   "execution_count": 26,
   "id": "fc8ee372",
   "metadata": {},
   "outputs": [],
   "source": [
    "from sklearn.ensemble import RandomForestClassifier,GradientBoostingClassifier"
   ]
  },
  {
   "cell_type": "code",
   "execution_count": 27,
   "id": "6322d45a",
   "metadata": {},
   "outputs": [],
   "source": [
    "rd_mod=RandomForestClassifier().fit(x_train_s,y_train)\n",
    "y_pred=rd_mod.predict(x_train_s)"
   ]
  },
  {
   "cell_type": "code",
   "execution_count": 28,
   "id": "d7e0efa0",
   "metadata": {},
   "outputs": [
    {
     "data": {
      "text/plain": [
       "array([0, 0, 1, ..., 1, 1, 0])"
      ]
     },
     "execution_count": 28,
     "metadata": {},
     "output_type": "execute_result"
    }
   ],
   "source": [
    "yhat=np.empty_like(y_pred)\n",
    "for y in range(len(y_pred)):\n",
    "    if y_pred[y]>0.3:\n",
    "        yhat[y]=1\n",
    "    else:\n",
    "        yhat[y]=0\n",
    "        \n",
    "yhat"
   ]
  },
  {
   "cell_type": "code",
   "execution_count": 29,
   "id": "4038e5a7",
   "metadata": {},
   "outputs": [
    {
     "data": {
      "text/plain": [
       "1.0"
      ]
     },
     "execution_count": 29,
     "metadata": {},
     "output_type": "execute_result"
    }
   ],
   "source": [
    "accuracy_score(yhat,y_train)"
   ]
  },
  {
   "cell_type": "code",
   "execution_count": 30,
   "id": "bc1d5589",
   "metadata": {},
   "outputs": [
    {
     "data": {
      "text/plain": [
       "1.0"
      ]
     },
     "execution_count": 30,
     "metadata": {},
     "output_type": "execute_result"
    }
   ],
   "source": [
    "f1_score(yhat,y_train)"
   ]
  },
  {
   "cell_type": "code",
   "execution_count": 31,
   "id": "8df5c127",
   "metadata": {},
   "outputs": [
    {
     "data": {
      "text/plain": [
       "array([0, 0, 0, ..., 1, 0, 1])"
      ]
     },
     "execution_count": 31,
     "metadata": {},
     "output_type": "execute_result"
    }
   ],
   "source": [
    "y_pred=rd_mod.predict(x_test_s)\n",
    "yhat=np.empty_like(y_pred)\n",
    "for y in range(len(y_pred)):\n",
    "    if y_pred[y]>0.3:\n",
    "        yhat[y]=1\n",
    "    else:\n",
    "        yhat[y]=0\n",
    "        \n",
    "yhat"
   ]
  },
  {
   "cell_type": "code",
   "execution_count": 32,
   "id": "ebf464f6",
   "metadata": {},
   "outputs": [
    {
     "data": {
      "text/plain": [
       "0.87"
      ]
     },
     "execution_count": 32,
     "metadata": {},
     "output_type": "execute_result"
    }
   ],
   "source": [
    "accuracy_score(yhat,y_test)"
   ]
  },
  {
   "cell_type": "code",
   "execution_count": 33,
   "id": "d7333656",
   "metadata": {},
   "outputs": [
    {
     "data": {
      "text/plain": [
       "0.5899053627760252"
      ]
     },
     "execution_count": 33,
     "metadata": {},
     "output_type": "execute_result"
    }
   ],
   "source": [
    "f1_score(yhat,y_test)"
   ]
  },
  {
   "cell_type": "code",
   "execution_count": 34,
   "id": "81d81b55",
   "metadata": {},
   "outputs": [
    {
     "data": {
      "text/plain": [
       "array([0, 0, 0, ..., 1, 1, 0])"
      ]
     },
     "execution_count": 34,
     "metadata": {},
     "output_type": "execute_result"
    }
   ],
   "source": [
    "gdb=GradientBoostingClassifier().fit(x_train_s, y_train)\n",
    "y_pred=gdb.predict(x_train_s)\n",
    "yhat=np.empty_like(y_pred)\n",
    "for y in range(len(y_pred)):\n",
    "    if y_pred[y]>0.3:\n",
    "        yhat[y]=1\n",
    "    else:\n",
    "        yhat[y]=0\n",
    "        \n",
    "yhat"
   ]
  },
  {
   "cell_type": "code",
   "execution_count": 35,
   "id": "51e5c921",
   "metadata": {},
   "outputs": [
    {
     "data": {
      "text/plain": [
       "1.0"
      ]
     },
     "execution_count": 35,
     "metadata": {},
     "output_type": "execute_result"
    }
   ],
   "source": [
    "accuracy_score(yhat, y_pred)"
   ]
  },
  {
   "cell_type": "code",
   "execution_count": 36,
   "id": "3092bfc1",
   "metadata": {},
   "outputs": [
    {
     "data": {
      "text/plain": [
       "1.0"
      ]
     },
     "execution_count": 36,
     "metadata": {},
     "output_type": "execute_result"
    }
   ],
   "source": [
    "f1_score(yhat, y_pred)"
   ]
  },
  {
   "cell_type": "code",
   "execution_count": 37,
   "id": "e2b7c45c",
   "metadata": {},
   "outputs": [
    {
     "data": {
      "text/plain": [
       "array([0, 0, 0, ..., 1, 0, 0])"
      ]
     },
     "execution_count": 37,
     "metadata": {},
     "output_type": "execute_result"
    }
   ],
   "source": [
    "y_pred=gdb.predict(x_test_s)\n",
    "yhat=np.empty_like(y_pred)\n",
    "for y in range(len(y_pred)):\n",
    "    if y_pred[y]>0.3:\n",
    "        yhat[y]=1\n",
    "    else:\n",
    "        yhat[y]=0\n",
    "        \n",
    "yhat"
   ]
  },
  {
   "cell_type": "code",
   "execution_count": 38,
   "id": "4daa2533",
   "metadata": {},
   "outputs": [
    {
     "data": {
      "text/plain": [
       "0.8645"
      ]
     },
     "execution_count": 38,
     "metadata": {},
     "output_type": "execute_result"
    }
   ],
   "source": [
    "accuracy_score(yhat, y_test)"
   ]
  },
  {
   "cell_type": "code",
   "execution_count": 39,
   "id": "b07fc1ed",
   "metadata": {},
   "outputs": [
    {
     "data": {
      "text/plain": [
       "0.58"
      ]
     },
     "execution_count": 39,
     "metadata": {},
     "output_type": "execute_result"
    }
   ],
   "source": [
    "round(f1_score(yhat,y_test),2)"
   ]
  },
  {
   "cell_type": "code",
   "execution_count": 40,
   "id": "148c0a6b",
   "metadata": {},
   "outputs": [],
   "source": [
    "from xgboost import XGBRFClassifier\n",
    "from lightgbm import LGBMClassifier"
   ]
  },
  {
   "cell_type": "code",
   "execution_count": 41,
   "id": "5bf0fac1",
   "metadata": {},
   "outputs": [
    {
     "data": {
      "text/plain": [
       "array([0, 0, 0, ..., 1, 0, 1])"
      ]
     },
     "execution_count": 41,
     "metadata": {},
     "output_type": "execute_result"
    }
   ],
   "source": [
    "xgb=XGBRFClassifier().fit(x_train_s, y_train)\n",
    "y_pred=xgb.predict(x_train_s)\n",
    "yhat=np.empty_like(y_pred)\n",
    "for y in range(len(y_pred)):\n",
    "    if y_pred[y]>0.3:\n",
    "        yhat[y]=1\n",
    "    else:\n",
    "        yhat[y]=0\n",
    "        \n",
    "yhat"
   ]
  },
  {
   "cell_type": "code",
   "execution_count": 42,
   "id": "4ea364b5",
   "metadata": {},
   "outputs": [
    {
     "data": {
      "text/plain": [
       "0.86"
      ]
     },
     "execution_count": 42,
     "metadata": {},
     "output_type": "execute_result"
    }
   ],
   "source": [
    "round(accuracy_score(yhat,y_train),2)"
   ]
  },
  {
   "cell_type": "code",
   "execution_count": 43,
   "id": "ec6c1ead",
   "metadata": {},
   "outputs": [
    {
     "data": {
      "text/plain": [
       "0.59"
      ]
     },
     "execution_count": 43,
     "metadata": {},
     "output_type": "execute_result"
    }
   ],
   "source": [
    "round(f1_score(yhat,y_train),2)"
   ]
  },
  {
   "cell_type": "code",
   "execution_count": 44,
   "id": "eabdc385",
   "metadata": {},
   "outputs": [
    {
     "data": {
      "text/plain": [
       "array([0, 0, 0, ..., 1, 0, 0])"
      ]
     },
     "execution_count": 44,
     "metadata": {},
     "output_type": "execute_result"
    }
   ],
   "source": [
    "y_pred=xgb.predict(x_test_s)\n",
    "yhat=np.empty_like(y_pred)\n",
    "for y in range(len(y_pred)):\n",
    "    if y_pred[y]>0.3:\n",
    "        yhat[y]=1\n",
    "    else:\n",
    "        yhat[y]=0\n",
    "        \n",
    "yhat"
   ]
  },
  {
   "cell_type": "code",
   "execution_count": 45,
   "id": "4f56e6a9",
   "metadata": {},
   "outputs": [
    {
     "data": {
      "text/plain": [
       "0.87"
      ]
     },
     "execution_count": 45,
     "metadata": {},
     "output_type": "execute_result"
    }
   ],
   "source": [
    "round(accuracy_score(yhat, y_test),2)"
   ]
  },
  {
   "cell_type": "code",
   "execution_count": 46,
   "id": "167851a6",
   "metadata": {},
   "outputs": [
    {
     "data": {
      "text/plain": [
       "0.59"
      ]
     },
     "execution_count": 46,
     "metadata": {},
     "output_type": "execute_result"
    }
   ],
   "source": [
    "round(f1_score(yhat,y_test),2)"
   ]
  },
  {
   "cell_type": "code",
   "execution_count": 47,
   "id": "056d4e1f",
   "metadata": {},
   "outputs": [
    {
     "name": "stdout",
     "output_type": "stream",
     "text": [
      "[LightGBM] [Info] Number of positive: 1644, number of negative: 6356\n",
      "[LightGBM] [Info] Auto-choosing row-wise multi-threading, the overhead of testing was 0.000073 seconds.\n",
      "You can set `force_row_wise=true` to remove the overhead.\n",
      "And if memory is not enough, you can set `force_col_wise=true`.\n",
      "[LightGBM] [Info] Total Bins 866\n",
      "[LightGBM] [Info] Number of data points in the train set: 8000, number of used features: 12\n",
      "[LightGBM] [Info] [binary:BoostFromScore]: pavg=0.205500 -> initscore=-1.352267\n",
      "[LightGBM] [Info] Start training from score -1.352267\n"
     ]
    },
    {
     "data": {
      "text/plain": [
       "array([0, 0, 0, ..., 1, 1, 0])"
      ]
     },
     "execution_count": 47,
     "metadata": {},
     "output_type": "execute_result"
    }
   ],
   "source": [
    "lgbm=LGBMClassifier().fit(x_train_s, y_train)\n",
    "y_pred=lgbm.predict(x_train_s)\n",
    "yhat=np.empty_like(y_pred)\n",
    "for y in range(len(y_pred)):\n",
    "    if y_pred[y]>0.3:\n",
    "        yhat[y]=1\n",
    "    else:\n",
    "        yhat[y]=0\n",
    "        \n",
    "yhat"
   ]
  },
  {
   "cell_type": "code",
   "execution_count": 48,
   "id": "d182efb0",
   "metadata": {},
   "outputs": [
    {
     "data": {
      "text/plain": [
       "1"
      ]
     },
     "execution_count": 48,
     "metadata": {},
     "output_type": "execute_result"
    }
   ],
   "source": [
    "round(accuracy_score(yhat,y_train))"
   ]
  },
  {
   "cell_type": "code",
   "execution_count": 49,
   "id": "3e39bf25",
   "metadata": {},
   "outputs": [
    {
     "data": {
      "text/plain": [
       "1"
      ]
     },
     "execution_count": 49,
     "metadata": {},
     "output_type": "execute_result"
    }
   ],
   "source": [
    "round(f1_score(yhat,y_train))"
   ]
  },
  {
   "cell_type": "code",
   "execution_count": 50,
   "id": "d58d0e76",
   "metadata": {},
   "outputs": [
    {
     "data": {
      "text/plain": [
       "array([0, 0, 0, ..., 1, 0, 0])"
      ]
     },
     "execution_count": 50,
     "metadata": {},
     "output_type": "execute_result"
    }
   ],
   "source": [
    "y_pred=lgbm.predict(x_test_s)\n",
    "yhat=np.empty_like(y_pred)\n",
    "for y in range(len(y_pred)):\n",
    "    if y_pred[y]>0.3:\n",
    "        yhat[y]=1\n",
    "    else:\n",
    "        yhat[y]=0\n",
    "        \n",
    "yhat"
   ]
  },
  {
   "cell_type": "code",
   "execution_count": 51,
   "id": "f2910ca7",
   "metadata": {},
   "outputs": [
    {
     "data": {
      "text/plain": [
       "1"
      ]
     },
     "execution_count": 51,
     "metadata": {},
     "output_type": "execute_result"
    }
   ],
   "source": [
    "round(accuracy_score(yhat,y_test))"
   ]
  },
  {
   "cell_type": "code",
   "execution_count": 52,
   "id": "5b0dfcb9",
   "metadata": {},
   "outputs": [
    {
     "data": {
      "text/plain": [
       "0.6"
      ]
     },
     "execution_count": 52,
     "metadata": {},
     "output_type": "execute_result"
    }
   ],
   "source": [
    "round(f1_score(yhat,y_test),2)"
   ]
  },
  {
   "cell_type": "code",
   "execution_count": 54,
   "id": "b39e675c",
   "metadata": {},
   "outputs": [],
   "source": [
    "import tensorflow as tf\n",
    "from tensorflow.keras.layers import Dense,Dropout\n",
    "from tensorflow.keras.models import Sequential"
   ]
  },
  {
   "cell_type": "code",
   "execution_count": 55,
   "id": "031be1fe",
   "metadata": {},
   "outputs": [
    {
     "name": "stdout",
     "output_type": "stream",
     "text": [
      "Epoch 1/50\n",
      "250/250 [==============================] - 1s 639us/step - loss: 0.6222 - accuracy: 0.7305\n",
      "Epoch 2/50\n",
      "250/250 [==============================] - 0s 604us/step - loss: 0.5691 - accuracy: 0.7849\n",
      "Epoch 3/50\n",
      "250/250 [==============================] - 0s 599us/step - loss: 0.5354 - accuracy: 0.7946\n",
      "Epoch 4/50\n",
      "250/250 [==============================] - 0s 612us/step - loss: 0.5171 - accuracy: 0.7945\n",
      "Epoch 5/50\n",
      "250/250 [==============================] - 0s 601us/step - loss: 0.5083 - accuracy: 0.7945\n",
      "Epoch 6/50\n",
      "250/250 [==============================] - 0s 598us/step - loss: 0.5043 - accuracy: 0.7945\n",
      "Epoch 7/50\n",
      "250/250 [==============================] - 0s 596us/step - loss: 0.4949 - accuracy: 0.7945\n",
      "Epoch 8/50\n",
      "250/250 [==============================] - 0s 598us/step - loss: 0.4894 - accuracy: 0.7945\n",
      "Epoch 9/50\n",
      "250/250 [==============================] - 0s 600us/step - loss: 0.4831 - accuracy: 0.7945\n",
      "Epoch 10/50\n",
      "250/250 [==============================] - 0s 598us/step - loss: 0.4807 - accuracy: 0.7945\n",
      "Epoch 11/50\n",
      "250/250 [==============================] - 0s 598us/step - loss: 0.4783 - accuracy: 0.7945\n",
      "Epoch 12/50\n",
      "250/250 [==============================] - 0s 605us/step - loss: 0.4772 - accuracy: 0.7945\n",
      "Epoch 13/50\n",
      "250/250 [==============================] - 0s 608us/step - loss: 0.4770 - accuracy: 0.7945\n",
      "Epoch 14/50\n",
      "250/250 [==============================] - 0s 615us/step - loss: 0.4773 - accuracy: 0.7945\n",
      "Epoch 15/50\n",
      "250/250 [==============================] - 0s 594us/step - loss: 0.4704 - accuracy: 0.7945\n",
      "Epoch 16/50\n",
      "250/250 [==============================] - 0s 603us/step - loss: 0.4736 - accuracy: 0.7945\n",
      "Epoch 17/50\n",
      "250/250 [==============================] - 0s 598us/step - loss: 0.4685 - accuracy: 0.7945\n",
      "Epoch 18/50\n",
      "250/250 [==============================] - 0s 598us/step - loss: 0.4698 - accuracy: 0.7945\n",
      "Epoch 19/50\n",
      "250/250 [==============================] - 0s 601us/step - loss: 0.4701 - accuracy: 0.7945\n",
      "Epoch 20/50\n",
      "250/250 [==============================] - 0s 592us/step - loss: 0.4668 - accuracy: 0.7945\n",
      "Epoch 21/50\n",
      "250/250 [==============================] - 0s 600us/step - loss: 0.4699 - accuracy: 0.7945\n",
      "Epoch 22/50\n",
      "250/250 [==============================] - 0s 604us/step - loss: 0.4665 - accuracy: 0.7945\n",
      "Epoch 23/50\n",
      "250/250 [==============================] - 0s 605us/step - loss: 0.4687 - accuracy: 0.7945\n",
      "Epoch 24/50\n",
      "250/250 [==============================] - 0s 601us/step - loss: 0.4671 - accuracy: 0.7945\n",
      "Epoch 25/50\n",
      "250/250 [==============================] - 0s 612us/step - loss: 0.4646 - accuracy: 0.7945\n",
      "Epoch 26/50\n",
      "250/250 [==============================] - 0s 604us/step - loss: 0.4662 - accuracy: 0.7945\n",
      "Epoch 27/50\n",
      "250/250 [==============================] - 0s 596us/step - loss: 0.4655 - accuracy: 0.7945\n",
      "Epoch 28/50\n",
      "250/250 [==============================] - 0s 603us/step - loss: 0.4656 - accuracy: 0.7945\n",
      "Epoch 29/50\n",
      "250/250 [==============================] - 0s 599us/step - loss: 0.4644 - accuracy: 0.7945\n",
      "Epoch 30/50\n",
      "250/250 [==============================] - 0s 609us/step - loss: 0.4606 - accuracy: 0.7945\n",
      "Epoch 31/50\n",
      "250/250 [==============================] - 0s 594us/step - loss: 0.4590 - accuracy: 0.7945\n",
      "Epoch 32/50\n",
      "250/250 [==============================] - 0s 614us/step - loss: 0.4584 - accuracy: 0.7945\n",
      "Epoch 33/50\n",
      "250/250 [==============================] - 0s 613us/step - loss: 0.4635 - accuracy: 0.7945\n",
      "Epoch 34/50\n",
      "250/250 [==============================] - 0s 603us/step - loss: 0.4624 - accuracy: 0.7945\n",
      "Epoch 35/50\n",
      "250/250 [==============================] - 0s 602us/step - loss: 0.4597 - accuracy: 0.7945\n",
      "Epoch 36/50\n",
      "250/250 [==============================] - 0s 593us/step - loss: 0.4607 - accuracy: 0.7945\n",
      "Epoch 37/50\n",
      "250/250 [==============================] - 0s 599us/step - loss: 0.4642 - accuracy: 0.7945\n",
      "Epoch 38/50\n",
      "250/250 [==============================] - 0s 601us/step - loss: 0.4642 - accuracy: 0.7945\n",
      "Epoch 39/50\n",
      "250/250 [==============================] - 0s 602us/step - loss: 0.4607 - accuracy: 0.7945\n",
      "Epoch 40/50\n",
      "250/250 [==============================] - 0s 607us/step - loss: 0.4567 - accuracy: 0.7945\n",
      "Epoch 41/50\n",
      "250/250 [==============================] - 0s 597us/step - loss: 0.4605 - accuracy: 0.7945\n",
      "Epoch 42/50\n",
      "250/250 [==============================] - 0s 626us/step - loss: 0.4566 - accuracy: 0.7945\n",
      "Epoch 43/50\n",
      "250/250 [==============================] - 0s 602us/step - loss: 0.4585 - accuracy: 0.7945\n",
      "Epoch 44/50\n",
      "250/250 [==============================] - 0s 611us/step - loss: 0.4616 - accuracy: 0.7945\n",
      "Epoch 45/50\n",
      "250/250 [==============================] - 0s 596us/step - loss: 0.4612 - accuracy: 0.7945\n",
      "Epoch 46/50\n",
      "250/250 [==============================] - 0s 592us/step - loss: 0.4585 - accuracy: 0.7945\n",
      "Epoch 47/50\n",
      "250/250 [==============================] - 0s 594us/step - loss: 0.4622 - accuracy: 0.7945\n",
      "Epoch 48/50\n",
      "250/250 [==============================] - 0s 601us/step - loss: 0.4647 - accuracy: 0.7945\n",
      "Epoch 49/50\n",
      "250/250 [==============================] - 0s 604us/step - loss: 0.4615 - accuracy: 0.7945\n",
      "Epoch 50/50\n",
      "250/250 [==============================] - 0s 600us/step - loss: 0.4583 - accuracy: 0.7945\n"
     ]
    },
    {
     "data": {
      "text/plain": [
       "<keras.src.callbacks.History at 0x7fe00d97b2d0>"
      ]
     },
     "execution_count": 55,
     "metadata": {},
     "output_type": "execute_result"
    }
   ],
   "source": [
    "model =Sequential([\n",
    "    Dense(8, activation='relu'),\n",
    "    Dropout(0.5),\n",
    "    Dense(4, activation='relu'),\n",
    "    Dropout(0.4),\n",
    "    Dense(1, activation='sigmoid')\n",
    "])\n",
    "\n",
    "model.compile(optimizer='Adam', \n",
    "             loss='binary_crossentropy',\n",
    "             metrics=['accuracy'])\n",
    "\n",
    "model.fit(x_train_s, y_train, epochs=50)"
   ]
  },
  {
   "cell_type": "code",
   "execution_count": 61,
   "id": "7d93bd80",
   "metadata": {},
   "outputs": [
    {
     "name": "stdout",
     "output_type": "stream",
     "text": [
      "250/250 [==============================] - 0s 449us/step\n"
     ]
    }
   ],
   "source": [
    "y_pred=model.predict(x_train_s)"
   ]
  },
  {
   "cell_type": "code",
   "execution_count": 62,
   "id": "4d1cdedf",
   "metadata": {},
   "outputs": [
    {
     "data": {
      "text/plain": [
       "array([[0.],\n",
       "       [0.],\n",
       "       [0.],\n",
       "       ...,\n",
       "       [0.],\n",
       "       [1.],\n",
       "       [1.]], dtype=float32)"
      ]
     },
     "execution_count": 62,
     "metadata": {},
     "output_type": "execute_result"
    }
   ],
   "source": [
    "yhat=np.empty_like(y_pred)\n",
    "for y in range(len(y_pred)):\n",
    "    if y_pred[y]>0.3:\n",
    "        yhat[y]=1\n",
    "    else:\n",
    "        yhat[y]=0\n",
    "        \n",
    "yhat"
   ]
  },
  {
   "cell_type": "code",
   "execution_count": 63,
   "id": "5e2131ee",
   "metadata": {},
   "outputs": [
    {
     "data": {
      "text/plain": [
       "0.81"
      ]
     },
     "execution_count": 63,
     "metadata": {},
     "output_type": "execute_result"
    }
   ],
   "source": [
    "round(accuracy_score(yhat, y_train),2)"
   ]
  },
  {
   "cell_type": "code",
   "execution_count": 64,
   "id": "03d37525",
   "metadata": {},
   "outputs": [
    {
     "data": {
      "text/plain": [
       "0.57"
      ]
     },
     "execution_count": 64,
     "metadata": {},
     "output_type": "execute_result"
    }
   ],
   "source": [
    "round(f1_score(yhat, y_train),2)"
   ]
  },
  {
   "cell_type": "code",
   "execution_count": 65,
   "id": "cf3160d2",
   "metadata": {},
   "outputs": [
    {
     "name": "stdout",
     "output_type": "stream",
     "text": [
      "63/63 [==============================] - 0s 491us/step\n"
     ]
    }
   ],
   "source": [
    "y_pred=model.predict(x_test_s)"
   ]
  },
  {
   "cell_type": "code",
   "execution_count": 66,
   "id": "7fab2bf7",
   "metadata": {},
   "outputs": [
    {
     "data": {
      "text/plain": [
       "array([[0.],\n",
       "       [0.],\n",
       "       [0.],\n",
       "       ...,\n",
       "       [1.],\n",
       "       [0.],\n",
       "       [0.]], dtype=float32)"
      ]
     },
     "execution_count": 66,
     "metadata": {},
     "output_type": "execute_result"
    }
   ],
   "source": [
    "yhat=np.empty_like(y_pred)\n",
    "for y in range(len(y_pred)):\n",
    "    if y_pred[y]>0.3:\n",
    "        yhat[y]=1\n",
    "    else:\n",
    "        yhat[y]=0\n",
    "        \n",
    "yhat"
   ]
  },
  {
   "cell_type": "code",
   "execution_count": 67,
   "id": "600596f3",
   "metadata": {},
   "outputs": [
    {
     "name": "stdout",
     "output_type": "stream",
     "text": [
      "63/63 [==============================] - 0s 509us/step\n"
     ]
    }
   ],
   "source": [
    "y_pred=model.predict(x_test_s)"
   ]
  },
  {
   "cell_type": "code",
   "execution_count": 68,
   "id": "63e1bd87",
   "metadata": {},
   "outputs": [
    {
     "data": {
      "text/plain": [
       "array([[0.],\n",
       "       [0.],\n",
       "       [0.],\n",
       "       ...,\n",
       "       [1.],\n",
       "       [0.],\n",
       "       [0.]], dtype=float32)"
      ]
     },
     "execution_count": 68,
     "metadata": {},
     "output_type": "execute_result"
    }
   ],
   "source": [
    "yhat=np.empty_like(y_pred)\n",
    "for y in range(len(y_pred)):\n",
    "    if y_pred[y]>0.3:\n",
    "        yhat[y]=1\n",
    "    else:\n",
    "        yhat[y]=0\n",
    "        \n",
    "yhat"
   ]
  },
  {
   "cell_type": "code",
   "execution_count": 69,
   "id": "0695945b",
   "metadata": {},
   "outputs": [
    {
     "data": {
      "text/plain": [
       "0.81"
      ]
     },
     "execution_count": 69,
     "metadata": {},
     "output_type": "execute_result"
    }
   ],
   "source": [
    "round(accuracy_score(yhat, y_test),2)"
   ]
  },
  {
   "cell_type": "code",
   "execution_count": 70,
   "id": "03cc3d11",
   "metadata": {},
   "outputs": [
    {
     "data": {
      "text/plain": [
       "0.57"
      ]
     },
     "execution_count": 70,
     "metadata": {},
     "output_type": "execute_result"
    }
   ],
   "source": [
    "round(f1_score(yhat, y_test),2)"
   ]
  },
  {
   "cell_type": "code",
   "execution_count": 71,
   "id": "5725c463",
   "metadata": {},
   "outputs": [
    {
     "name": "stdout",
     "output_type": "stream",
     "text": [
      "Epoch 1/50\n",
      "250/250 [==============================] - 0s 611us/step - loss: 0.5063 - accuracy: 0.7874\n",
      "Epoch 2/50\n",
      "250/250 [==============================] - 0s 602us/step - loss: 0.4563 - accuracy: 0.7977\n",
      "Epoch 3/50\n",
      "250/250 [==============================] - 0s 590us/step - loss: 0.4358 - accuracy: 0.8066\n",
      "Epoch 4/50\n",
      "250/250 [==============================] - 0s 590us/step - loss: 0.4237 - accuracy: 0.8104\n",
      "Epoch 5/50\n",
      "250/250 [==============================] - 0s 630us/step - loss: 0.4127 - accuracy: 0.8188\n",
      "Epoch 6/50\n",
      "250/250 [==============================] - 0s 622us/step - loss: 0.3996 - accuracy: 0.8280\n",
      "Epoch 7/50\n",
      "250/250 [==============================] - 0s 656us/step - loss: 0.3864 - accuracy: 0.8359\n",
      "Epoch 8/50\n",
      "250/250 [==============================] - 0s 651us/step - loss: 0.3734 - accuracy: 0.8450\n",
      "Epoch 9/50\n",
      "250/250 [==============================] - 0s 640us/step - loss: 0.3642 - accuracy: 0.8486\n",
      "Epoch 10/50\n",
      "250/250 [==============================] - 0s 627us/step - loss: 0.3579 - accuracy: 0.8520\n",
      "Epoch 11/50\n",
      "250/250 [==============================] - 0s 641us/step - loss: 0.3537 - accuracy: 0.8546\n",
      "Epoch 12/50\n",
      "250/250 [==============================] - 0s 629us/step - loss: 0.3509 - accuracy: 0.8574\n",
      "Epoch 13/50\n",
      "250/250 [==============================] - 0s 647us/step - loss: 0.3490 - accuracy: 0.8549\n",
      "Epoch 14/50\n",
      "250/250 [==============================] - 0s 661us/step - loss: 0.3480 - accuracy: 0.8566\n",
      "Epoch 15/50\n",
      "250/250 [==============================] - 0s 646us/step - loss: 0.3468 - accuracy: 0.8594\n",
      "Epoch 16/50\n",
      "250/250 [==============================] - 0s 649us/step - loss: 0.3451 - accuracy: 0.8580\n",
      "Epoch 17/50\n",
      "250/250 [==============================] - 0s 634us/step - loss: 0.3445 - accuracy: 0.8562\n",
      "Epoch 18/50\n",
      "250/250 [==============================] - 0s 666us/step - loss: 0.3436 - accuracy: 0.8596\n",
      "Epoch 19/50\n",
      "250/250 [==============================] - 0s 646us/step - loss: 0.3427 - accuracy: 0.8587\n",
      "Epoch 20/50\n",
      "250/250 [==============================] - 0s 647us/step - loss: 0.3420 - accuracy: 0.8590\n",
      "Epoch 21/50\n",
      "250/250 [==============================] - 0s 643us/step - loss: 0.3416 - accuracy: 0.8590\n",
      "Epoch 22/50\n",
      "250/250 [==============================] - 0s 622us/step - loss: 0.3410 - accuracy: 0.8604\n",
      "Epoch 23/50\n",
      "250/250 [==============================] - 0s 646us/step - loss: 0.3405 - accuracy: 0.8594\n",
      "Epoch 24/50\n",
      "250/250 [==============================] - 0s 687us/step - loss: 0.3398 - accuracy: 0.8605\n",
      "Epoch 25/50\n",
      "250/250 [==============================] - 0s 659us/step - loss: 0.3392 - accuracy: 0.8606\n",
      "Epoch 26/50\n",
      "250/250 [==============================] - 0s 672us/step - loss: 0.3391 - accuracy: 0.8605\n",
      "Epoch 27/50\n",
      "250/250 [==============================] - 0s 662us/step - loss: 0.3386 - accuracy: 0.8615\n",
      "Epoch 28/50\n",
      "250/250 [==============================] - 0s 631us/step - loss: 0.3383 - accuracy: 0.8615\n",
      "Epoch 29/50\n",
      "250/250 [==============================] - 0s 628us/step - loss: 0.3380 - accuracy: 0.8612\n",
      "Epoch 30/50\n",
      "250/250 [==============================] - 0s 626us/step - loss: 0.3377 - accuracy: 0.8616\n",
      "Epoch 31/50\n",
      "250/250 [==============================] - 0s 672us/step - loss: 0.3374 - accuracy: 0.8624\n",
      "Epoch 32/50\n",
      "250/250 [==============================] - 0s 639us/step - loss: 0.3370 - accuracy: 0.8625\n",
      "Epoch 33/50\n",
      "250/250 [==============================] - 0s 630us/step - loss: 0.3370 - accuracy: 0.8629\n",
      "Epoch 34/50\n",
      "250/250 [==============================] - 0s 645us/step - loss: 0.3364 - accuracy: 0.8619\n",
      "Epoch 35/50\n",
      "250/250 [==============================] - 0s 671us/step - loss: 0.3367 - accuracy: 0.8622\n",
      "Epoch 36/50\n",
      "250/250 [==============================] - 0s 665us/step - loss: 0.3366 - accuracy: 0.8619\n",
      "Epoch 37/50\n",
      "250/250 [==============================] - 0s 635us/step - loss: 0.3358 - accuracy: 0.8629\n",
      "Epoch 38/50\n",
      "250/250 [==============================] - 0s 641us/step - loss: 0.3367 - accuracy: 0.8618\n",
      "Epoch 39/50\n",
      "250/250 [==============================] - 0s 629us/step - loss: 0.3359 - accuracy: 0.8629\n",
      "Epoch 40/50\n",
      "250/250 [==============================] - 0s 640us/step - loss: 0.3363 - accuracy: 0.8610\n",
      "Epoch 41/50\n",
      "250/250 [==============================] - 0s 633us/step - loss: 0.3359 - accuracy: 0.8627\n",
      "Epoch 42/50\n",
      "250/250 [==============================] - 0s 622us/step - loss: 0.3358 - accuracy: 0.8627\n",
      "Epoch 43/50\n",
      "250/250 [==============================] - 0s 593us/step - loss: 0.3357 - accuracy: 0.8624\n",
      "Epoch 44/50\n",
      "250/250 [==============================] - 0s 588us/step - loss: 0.3355 - accuracy: 0.8634\n",
      "Epoch 45/50\n",
      "250/250 [==============================] - 0s 600us/step - loss: 0.3351 - accuracy: 0.8619\n",
      "Epoch 46/50\n",
      "250/250 [==============================] - 0s 585us/step - loss: 0.3354 - accuracy: 0.8625\n",
      "Epoch 47/50\n",
      "250/250 [==============================] - 0s 597us/step - loss: 0.3353 - accuracy: 0.8633\n",
      "Epoch 48/50\n",
      "250/250 [==============================] - 0s 624us/step - loss: 0.3349 - accuracy: 0.8630\n",
      "Epoch 49/50\n",
      "250/250 [==============================] - 0s 647us/step - loss: 0.3352 - accuracy: 0.8639\n",
      "Epoch 50/50\n",
      "250/250 [==============================] - 0s 641us/step - loss: 0.3349 - accuracy: 0.8627\n"
     ]
    },
    {
     "data": {
      "text/plain": [
       "<keras.src.callbacks.History at 0x7fe006047610>"
      ]
     },
     "execution_count": 71,
     "metadata": {},
     "output_type": "execute_result"
    }
   ],
   "source": [
    "model =Sequential([\n",
    "    Dense(8, activation='relu'),\n",
    "    Dense(4, activation='relu'),\n",
    "    Dense(1, activation='sigmoid')\n",
    "])\n",
    "\n",
    "model.compile(optimizer='Adam', \n",
    "             loss='binary_crossentropy',\n",
    "             metrics=['accuracy'])\n",
    "\n",
    "model.fit(x_train_s, y_train, epochs=50)"
   ]
  },
  {
   "cell_type": "code",
   "execution_count": 72,
   "id": "e84b88e9",
   "metadata": {},
   "outputs": [
    {
     "name": "stdout",
     "output_type": "stream",
     "text": [
      "250/250 [==============================] - 0s 473us/step\n"
     ]
    }
   ],
   "source": [
    "y_pred=model.predict(x_train_s)"
   ]
  },
  {
   "cell_type": "code",
   "execution_count": 73,
   "id": "06e31336",
   "metadata": {},
   "outputs": [
    {
     "data": {
      "text/plain": [
       "array([[0.],\n",
       "       [0.],\n",
       "       [0.],\n",
       "       ...,\n",
       "       [1.],\n",
       "       [0.],\n",
       "       [1.]], dtype=float32)"
      ]
     },
     "execution_count": 73,
     "metadata": {},
     "output_type": "execute_result"
    }
   ],
   "source": [
    "yhat=np.empty_like(y_pred)\n",
    "for y in range(len(y_pred)):\n",
    "    if y_pred[y]>0.3:\n",
    "        yhat[y]=1\n",
    "    else:\n",
    "        yhat[y]=0\n",
    "        \n",
    "yhat"
   ]
  },
  {
   "cell_type": "code",
   "execution_count": 74,
   "id": "d65a8d8f",
   "metadata": {},
   "outputs": [
    {
     "data": {
      "text/plain": [
       "0.84"
      ]
     },
     "execution_count": 74,
     "metadata": {},
     "output_type": "execute_result"
    }
   ],
   "source": [
    "round(accuracy_score(yhat, y_train),2)"
   ]
  },
  {
   "cell_type": "code",
   "execution_count": 75,
   "id": "e53f8d51",
   "metadata": {},
   "outputs": [
    {
     "data": {
      "text/plain": [
       "0.63"
      ]
     },
     "execution_count": 75,
     "metadata": {},
     "output_type": "execute_result"
    }
   ],
   "source": [
    "round(f1_score(yhat, y_train),2)"
   ]
  },
  {
   "cell_type": "code",
   "execution_count": 76,
   "id": "a92af1c8",
   "metadata": {},
   "outputs": [
    {
     "name": "stdout",
     "output_type": "stream",
     "text": [
      "63/63 [==============================] - 0s 505us/step\n"
     ]
    }
   ],
   "source": [
    "y_pred=model.predict(x_test_s)"
   ]
  },
  {
   "cell_type": "code",
   "execution_count": 77,
   "id": "3fbc4e84",
   "metadata": {},
   "outputs": [
    {
     "data": {
      "text/plain": [
       "array([[0.],\n",
       "       [0.],\n",
       "       [0.],\n",
       "       ...,\n",
       "       [1.],\n",
       "       [0.],\n",
       "       [0.]], dtype=float32)"
      ]
     },
     "execution_count": 77,
     "metadata": {},
     "output_type": "execute_result"
    }
   ],
   "source": [
    "yhat=np.empty_like(y_pred)\n",
    "for y in range(len(y_pred)):\n",
    "    if y_pred[y]>0.3:\n",
    "        yhat[y]=1\n",
    "    else:\n",
    "        yhat[y]=0\n",
    "        \n",
    "yhat"
   ]
  },
  {
   "cell_type": "code",
   "execution_count": 78,
   "id": "77e22e05",
   "metadata": {},
   "outputs": [
    {
     "data": {
      "text/plain": [
       "0.84"
      ]
     },
     "execution_count": 78,
     "metadata": {},
     "output_type": "execute_result"
    }
   ],
   "source": [
    "round(accuracy_score(yhat, y_test),2)"
   ]
  },
  {
   "cell_type": "code",
   "execution_count": 79,
   "id": "24e2c2dc",
   "metadata": {},
   "outputs": [
    {
     "data": {
      "text/plain": [
       "0.61"
      ]
     },
     "execution_count": 79,
     "metadata": {},
     "output_type": "execute_result"
    }
   ],
   "source": [
    "round(f1_score(yhat, y_test),2)"
   ]
  },
  {
   "cell_type": "code",
   "execution_count": 84,
   "id": "47b0fa0d",
   "metadata": {},
   "outputs": [
    {
     "name": "stdout",
     "output_type": "stream",
     "text": [
      "Epoch 1/50\n",
      "250/250 [==============================] - 0s 648us/step - loss: 0.6567 - accuracy: 0.7623\n",
      "Epoch 2/50\n",
      "250/250 [==============================] - 0s 611us/step - loss: 0.5627 - accuracy: 0.7921\n",
      "Epoch 3/50\n",
      "250/250 [==============================] - 0s 618us/step - loss: 0.5286 - accuracy: 0.7945\n",
      "Epoch 4/50\n",
      "250/250 [==============================] - 0s 614us/step - loss: 0.5190 - accuracy: 0.7943\n",
      "Epoch 5/50\n",
      "250/250 [==============================] - 0s 614us/step - loss: 0.5074 - accuracy: 0.7945\n",
      "Epoch 6/50\n",
      "250/250 [==============================] - 0s 633us/step - loss: 0.4994 - accuracy: 0.7945\n",
      "Epoch 7/50\n",
      "250/250 [==============================] - 0s 613us/step - loss: 0.4947 - accuracy: 0.7945\n",
      "Epoch 8/50\n",
      "250/250 [==============================] - 0s 603us/step - loss: 0.4929 - accuracy: 0.7945\n",
      "Epoch 9/50\n",
      "250/250 [==============================] - 0s 660us/step - loss: 0.4838 - accuracy: 0.7945\n",
      "Epoch 10/50\n",
      "250/250 [==============================] - 0s 613us/step - loss: 0.4831 - accuracy: 0.7941\n",
      "Epoch 11/50\n",
      "250/250 [==============================] - 0s 611us/step - loss: 0.4771 - accuracy: 0.7945\n",
      "Epoch 12/50\n",
      "250/250 [==============================] - 0s 616us/step - loss: 0.4725 - accuracy: 0.7947\n",
      "Epoch 13/50\n",
      "250/250 [==============================] - 0s 646us/step - loss: 0.4733 - accuracy: 0.7956\n",
      "Epoch 14/50\n",
      "250/250 [==============================] - 0s 623us/step - loss: 0.4664 - accuracy: 0.7969\n",
      "Epoch 15/50\n",
      "250/250 [==============================] - 0s 606us/step - loss: 0.4709 - accuracy: 0.7954\n",
      "Epoch 16/50\n",
      "250/250 [==============================] - 0s 623us/step - loss: 0.4677 - accuracy: 0.7964\n",
      "Epoch 17/50\n",
      "250/250 [==============================] - 0s 636us/step - loss: 0.4652 - accuracy: 0.7958\n",
      "Epoch 18/50\n",
      "250/250 [==============================] - 0s 662us/step - loss: 0.4630 - accuracy: 0.7976\n",
      "Epoch 19/50\n",
      "250/250 [==============================] - 0s 614us/step - loss: 0.4598 - accuracy: 0.7974\n",
      "Epoch 20/50\n",
      "250/250 [==============================] - 0s 645us/step - loss: 0.4592 - accuracy: 0.7972\n",
      "Epoch 21/50\n",
      "250/250 [==============================] - 0s 696us/step - loss: 0.4638 - accuracy: 0.7974\n",
      "Epoch 22/50\n",
      "250/250 [==============================] - 0s 681us/step - loss: 0.4646 - accuracy: 0.7975\n",
      "Epoch 23/50\n",
      "250/250 [==============================] - 0s 666us/step - loss: 0.4606 - accuracy: 0.7979\n",
      "Epoch 24/50\n",
      "250/250 [==============================] - 0s 642us/step - loss: 0.4588 - accuracy: 0.7985\n",
      "Epoch 25/50\n",
      "250/250 [==============================] - 0s 667us/step - loss: 0.4547 - accuracy: 0.8004\n",
      "Epoch 26/50\n",
      "250/250 [==============================] - 0s 667us/step - loss: 0.4548 - accuracy: 0.8004\n",
      "Epoch 27/50\n",
      "250/250 [==============================] - 0s 630us/step - loss: 0.4620 - accuracy: 0.8023\n",
      "Epoch 28/50\n",
      "250/250 [==============================] - 0s 610us/step - loss: 0.4601 - accuracy: 0.8020\n",
      "Epoch 29/50\n",
      "250/250 [==============================] - 0s 603us/step - loss: 0.4547 - accuracy: 0.8027\n",
      "Epoch 30/50\n",
      "250/250 [==============================] - 0s 603us/step - loss: 0.4561 - accuracy: 0.8029\n",
      "Epoch 31/50\n",
      "250/250 [==============================] - 0s 626us/step - loss: 0.4541 - accuracy: 0.8037\n",
      "Epoch 32/50\n",
      "250/250 [==============================] - 0s 607us/step - loss: 0.4555 - accuracy: 0.8027\n",
      "Epoch 33/50\n",
      "250/250 [==============================] - 0s 614us/step - loss: 0.4556 - accuracy: 0.8031\n",
      "Epoch 34/50\n",
      "250/250 [==============================] - 0s 626us/step - loss: 0.4528 - accuracy: 0.8039\n",
      "Epoch 35/50\n",
      "250/250 [==============================] - 0s 599us/step - loss: 0.4558 - accuracy: 0.8025\n",
      "Epoch 36/50\n",
      "250/250 [==============================] - 0s 604us/step - loss: 0.4578 - accuracy: 0.8027\n",
      "Epoch 37/50\n",
      "250/250 [==============================] - 0s 613us/step - loss: 0.4529 - accuracy: 0.8043\n",
      "Epoch 38/50\n",
      "250/250 [==============================] - 0s 617us/step - loss: 0.4566 - accuracy: 0.8029\n",
      "Epoch 39/50\n",
      "250/250 [==============================] - 0s 604us/step - loss: 0.4525 - accuracy: 0.8054\n",
      "Epoch 40/50\n",
      "250/250 [==============================] - 0s 597us/step - loss: 0.4529 - accuracy: 0.8030\n",
      "Epoch 41/50\n",
      "250/250 [==============================] - 0s 614us/step - loss: 0.4488 - accuracy: 0.8058\n",
      "Epoch 42/50\n",
      "250/250 [==============================] - 0s 638us/step - loss: 0.4532 - accuracy: 0.8055\n",
      "Epoch 43/50\n",
      "250/250 [==============================] - 0s 605us/step - loss: 0.4508 - accuracy: 0.8061\n",
      "Epoch 44/50\n",
      "250/250 [==============================] - 0s 601us/step - loss: 0.4527 - accuracy: 0.8043\n",
      "Epoch 45/50\n",
      "250/250 [==============================] - 0s 612us/step - loss: 0.4512 - accuracy: 0.8058\n",
      "Epoch 46/50\n",
      "250/250 [==============================] - 0s 610us/step - loss: 0.4528 - accuracy: 0.8043\n",
      "Epoch 47/50\n",
      "250/250 [==============================] - 0s 625us/step - loss: 0.4526 - accuracy: 0.8070\n",
      "Epoch 48/50\n",
      "250/250 [==============================] - 0s 609us/step - loss: 0.4505 - accuracy: 0.8031\n",
      "Epoch 49/50\n",
      "250/250 [==============================] - 0s 623us/step - loss: 0.4518 - accuracy: 0.8044\n",
      "Epoch 50/50\n",
      "250/250 [==============================] - 0s 619us/step - loss: 0.4479 - accuracy: 0.8066\n"
     ]
    },
    {
     "data": {
      "text/plain": [
       "<keras.src.callbacks.History at 0x7fe007303c10>"
      ]
     },
     "execution_count": 84,
     "metadata": {},
     "output_type": "execute_result"
    }
   ],
   "source": [
    "model =Sequential([\n",
    "    Dense(8, activation='relu'),\n",
    "    Dropout(0.5),\n",
    "    Dense(4, activation='relu'),\n",
    "    Dropout(0.4),\n",
    "    Dense(1, activation='linear')\n",
    "])\n",
    "\n",
    "model.compile(optimizer='Adam', \n",
    "             loss=tf.keras.losses.BinaryCrossentropy(from_logits=True),\n",
    "             metrics=['accuracy'])\n",
    "\n",
    "model.fit(x_train_s, y_train, epochs=50)"
   ]
  },
  {
   "cell_type": "code",
   "execution_count": 85,
   "id": "ad5adaf6",
   "metadata": {},
   "outputs": [
    {
     "name": "stdout",
     "output_type": "stream",
     "text": [
      "250/250 [==============================] - 0s 474us/step\n"
     ]
    }
   ],
   "source": [
    "y_pred=model.predict(x_train_s)"
   ]
  },
  {
   "cell_type": "code",
   "execution_count": 86,
   "id": "fd2e7da1",
   "metadata": {},
   "outputs": [
    {
     "data": {
      "text/plain": [
       "array([[0.],\n",
       "       [0.],\n",
       "       [0.],\n",
       "       ...,\n",
       "       [0.],\n",
       "       [0.],\n",
       "       [0.]], dtype=float32)"
      ]
     },
     "execution_count": 86,
     "metadata": {},
     "output_type": "execute_result"
    }
   ],
   "source": [
    "yhat=np.empty_like(y_pred)\n",
    "for y in range(len(y_pred)):\n",
    "    if y_pred[y]>0.3:\n",
    "        yhat[y]=1\n",
    "    else:\n",
    "        yhat[y]=0\n",
    "        \n",
    "yhat"
   ]
  },
  {
   "cell_type": "code",
   "execution_count": 87,
   "id": "5ff36364",
   "metadata": {},
   "outputs": [
    {
     "data": {
      "text/plain": [
       "0.79"
      ]
     },
     "execution_count": 87,
     "metadata": {},
     "output_type": "execute_result"
    }
   ],
   "source": [
    "round(accuracy_score(yhat, y_train),2)"
   ]
  },
  {
   "cell_type": "code",
   "execution_count": 88,
   "id": "33dd67a6",
   "metadata": {},
   "outputs": [
    {
     "data": {
      "text/plain": [
       "0.0"
      ]
     },
     "execution_count": 88,
     "metadata": {},
     "output_type": "execute_result"
    }
   ],
   "source": [
    "round(f1_score(yhat,y_train),2)"
   ]
  },
  {
   "cell_type": "code",
   "execution_count": 89,
   "id": "2c7bffca",
   "metadata": {},
   "outputs": [
    {
     "name": "stdout",
     "output_type": "stream",
     "text": [
      "63/63 [==============================] - 0s 525us/step\n"
     ]
    }
   ],
   "source": [
    "y_pred=model.predict(x_test_s)"
   ]
  },
  {
   "cell_type": "code",
   "execution_count": 90,
   "id": "afcf8828",
   "metadata": {},
   "outputs": [
    {
     "data": {
      "text/plain": [
       "array([[0.],\n",
       "       [0.],\n",
       "       [0.],\n",
       "       ...,\n",
       "       [0.],\n",
       "       [0.],\n",
       "       [0.]], dtype=float32)"
      ]
     },
     "execution_count": 90,
     "metadata": {},
     "output_type": "execute_result"
    }
   ],
   "source": [
    "yhat=np.empty_like(y_pred)\n",
    "for y in range(len(y_pred)):\n",
    "    if y_pred[y]>0.3:\n",
    "        yhat[y]=1\n",
    "    else:\n",
    "        yhat[y]=0\n",
    "        \n",
    "yhat"
   ]
  },
  {
   "cell_type": "code",
   "execution_count": 92,
   "id": "7a774474",
   "metadata": {},
   "outputs": [
    {
     "data": {
      "text/plain": [
       "0.8"
      ]
     },
     "execution_count": 92,
     "metadata": {},
     "output_type": "execute_result"
    }
   ],
   "source": [
    "round(accuracy_score(yhat,y_test),2)"
   ]
  },
  {
   "cell_type": "code",
   "execution_count": 93,
   "id": "d219a206",
   "metadata": {},
   "outputs": [
    {
     "data": {
      "text/plain": [
       "0.0"
      ]
     },
     "execution_count": 93,
     "metadata": {},
     "output_type": "execute_result"
    }
   ],
   "source": [
    "round(f1_score(yhat, y_test),2)"
   ]
  },
  {
   "cell_type": "code",
   "execution_count": 94,
   "id": "60deaee5",
   "metadata": {},
   "outputs": [
    {
     "name": "stdout",
     "output_type": "stream",
     "text": [
      "Epoch 1/50\n",
      "250/250 [==============================] - 0s 620us/step - loss: 0.5331 - accuracy: 0.7881\n",
      "Epoch 2/50\n",
      "250/250 [==============================] - 0s 591us/step - loss: 0.4642 - accuracy: 0.7945\n",
      "Epoch 3/50\n",
      "250/250 [==============================] - 0s 589us/step - loss: 0.4479 - accuracy: 0.7951\n",
      "Epoch 4/50\n",
      "250/250 [==============================] - 0s 596us/step - loss: 0.4377 - accuracy: 0.8012\n",
      "Epoch 5/50\n",
      "250/250 [==============================] - 0s 599us/step - loss: 0.4303 - accuracy: 0.8066\n",
      "Epoch 6/50\n",
      "250/250 [==============================] - 0s 665us/step - loss: 0.4246 - accuracy: 0.8110\n",
      "Epoch 7/50\n",
      "250/250 [==============================] - 0s 612us/step - loss: 0.4198 - accuracy: 0.8188\n",
      "Epoch 8/50\n",
      "250/250 [==============================] - 0s 587us/step - loss: 0.4160 - accuracy: 0.8214\n",
      "Epoch 9/50\n",
      "250/250 [==============================] - 0s 590us/step - loss: 0.4124 - accuracy: 0.8242\n",
      "Epoch 10/50\n",
      "250/250 [==============================] - 0s 592us/step - loss: 0.4094 - accuracy: 0.8254\n",
      "Epoch 11/50\n",
      "250/250 [==============================] - 0s 600us/step - loss: 0.4067 - accuracy: 0.8275\n",
      "Epoch 12/50\n",
      "250/250 [==============================] - 0s 593us/step - loss: 0.4038 - accuracy: 0.8271\n",
      "Epoch 13/50\n",
      "250/250 [==============================] - 0s 594us/step - loss: 0.4013 - accuracy: 0.8280\n",
      "Epoch 14/50\n",
      "250/250 [==============================] - 0s 587us/step - loss: 0.3978 - accuracy: 0.8300\n",
      "Epoch 15/50\n",
      "250/250 [==============================] - 0s 591us/step - loss: 0.3931 - accuracy: 0.8344\n",
      "Epoch 16/50\n",
      "250/250 [==============================] - 0s 589us/step - loss: 0.3861 - accuracy: 0.8370\n",
      "Epoch 17/50\n",
      "250/250 [==============================] - 0s 590us/step - loss: 0.3776 - accuracy: 0.8424\n",
      "Epoch 18/50\n",
      "250/250 [==============================] - 0s 590us/step - loss: 0.3680 - accuracy: 0.8475\n",
      "Epoch 19/50\n",
      "250/250 [==============================] - 0s 583us/step - loss: 0.3619 - accuracy: 0.8501\n",
      "Epoch 20/50\n",
      "250/250 [==============================] - 0s 595us/step - loss: 0.3570 - accuracy: 0.8533\n",
      "Epoch 21/50\n",
      "250/250 [==============================] - 0s 592us/step - loss: 0.3536 - accuracy: 0.8536\n",
      "Epoch 22/50\n",
      "250/250 [==============================] - 0s 603us/step - loss: 0.3516 - accuracy: 0.8534\n",
      "Epoch 23/50\n",
      "250/250 [==============================] - 0s 589us/step - loss: 0.3502 - accuracy: 0.8535\n",
      "Epoch 24/50\n",
      "250/250 [==============================] - 0s 598us/step - loss: 0.3487 - accuracy: 0.8537\n",
      "Epoch 25/50\n",
      "250/250 [==============================] - 0s 599us/step - loss: 0.3475 - accuracy: 0.8541\n",
      "Epoch 26/50\n",
      "250/250 [==============================] - 0s 602us/step - loss: 0.3466 - accuracy: 0.8540\n",
      "Epoch 27/50\n",
      "250/250 [==============================] - 0s 646us/step - loss: 0.3454 - accuracy: 0.8545\n",
      "Epoch 28/50\n",
      "250/250 [==============================] - 0s 596us/step - loss: 0.3447 - accuracy: 0.8544\n",
      "Epoch 29/50\n",
      "250/250 [==============================] - 0s 593us/step - loss: 0.3441 - accuracy: 0.8556\n",
      "Epoch 30/50\n",
      "250/250 [==============================] - 0s 606us/step - loss: 0.3435 - accuracy: 0.8546\n",
      "Epoch 31/50\n",
      "250/250 [==============================] - 0s 632us/step - loss: 0.3429 - accuracy: 0.8546\n",
      "Epoch 32/50\n",
      "250/250 [==============================] - 0s 629us/step - loss: 0.3422 - accuracy: 0.8544\n",
      "Epoch 33/50\n",
      "250/250 [==============================] - 0s 617us/step - loss: 0.3421 - accuracy: 0.8553\n",
      "Epoch 34/50\n",
      "250/250 [==============================] - 0s 617us/step - loss: 0.3413 - accuracy: 0.8551\n",
      "Epoch 35/50\n",
      "250/250 [==============================] - 0s 653us/step - loss: 0.3410 - accuracy: 0.8554\n",
      "Epoch 36/50\n",
      "250/250 [==============================] - 0s 596us/step - loss: 0.3407 - accuracy: 0.8558\n",
      "Epoch 37/50\n",
      "250/250 [==============================] - 0s 634us/step - loss: 0.3401 - accuracy: 0.8559\n",
      "Epoch 38/50\n",
      "250/250 [==============================] - 0s 626us/step - loss: 0.3401 - accuracy: 0.8568\n",
      "Epoch 39/50\n",
      "250/250 [==============================] - 0s 606us/step - loss: 0.3396 - accuracy: 0.8564\n",
      "Epoch 40/50\n",
      "250/250 [==============================] - 0s 605us/step - loss: 0.3394 - accuracy: 0.8574\n",
      "Epoch 41/50\n",
      "250/250 [==============================] - 0s 588us/step - loss: 0.3391 - accuracy: 0.8569\n",
      "Epoch 42/50\n",
      "250/250 [==============================] - 0s 593us/step - loss: 0.3387 - accuracy: 0.8571\n",
      "Epoch 43/50\n",
      "250/250 [==============================] - 0s 601us/step - loss: 0.3387 - accuracy: 0.8564\n",
      "Epoch 44/50\n",
      "250/250 [==============================] - 0s 582us/step - loss: 0.3382 - accuracy: 0.8569\n",
      "Epoch 45/50\n",
      "250/250 [==============================] - 0s 598us/step - loss: 0.3382 - accuracy: 0.8580\n",
      "Epoch 46/50\n",
      "250/250 [==============================] - 0s 597us/step - loss: 0.3376 - accuracy: 0.8577\n",
      "Epoch 47/50\n",
      "250/250 [==============================] - 0s 592us/step - loss: 0.3372 - accuracy: 0.8584\n",
      "Epoch 48/50\n",
      "250/250 [==============================] - 0s 596us/step - loss: 0.3369 - accuracy: 0.8575\n",
      "Epoch 49/50\n",
      "250/250 [==============================] - 0s 586us/step - loss: 0.3365 - accuracy: 0.8587\n",
      "Epoch 50/50\n",
      "250/250 [==============================] - 0s 594us/step - loss: 0.3362 - accuracy: 0.8585\n"
     ]
    },
    {
     "data": {
      "text/plain": [
       "<keras.src.callbacks.History at 0x7fe006651dd0>"
      ]
     },
     "execution_count": 94,
     "metadata": {},
     "output_type": "execute_result"
    }
   ],
   "source": [
    "model =Sequential([\n",
    "    Dense(8, activation='relu'),\n",
    "    Dense(4, activation='relu'),\n",
    "    Dense(1, activation='linear')\n",
    "])\n",
    "\n",
    "model.compile(optimizer='Adam', \n",
    "             loss=tf.keras.losses.BinaryCrossentropy(from_logits=True),\n",
    "             metrics=['accuracy'])\n",
    "\n",
    "model.fit(x_train_s, y_train, epochs=50)"
   ]
  },
  {
   "cell_type": "code",
   "execution_count": 95,
   "id": "e809e843",
   "metadata": {},
   "outputs": [
    {
     "name": "stdout",
     "output_type": "stream",
     "text": [
      "250/250 [==============================] - 0s 464us/step\n"
     ]
    }
   ],
   "source": [
    "y_pred=model.predict(x_train_s)"
   ]
  },
  {
   "cell_type": "code",
   "execution_count": 96,
   "id": "10239829",
   "metadata": {},
   "outputs": [
    {
     "data": {
      "text/plain": [
       "array([[0.],\n",
       "       [0.],\n",
       "       [0.],\n",
       "       ...,\n",
       "       [1.],\n",
       "       [0.],\n",
       "       [0.]], dtype=float32)"
      ]
     },
     "execution_count": 96,
     "metadata": {},
     "output_type": "execute_result"
    }
   ],
   "source": [
    "yhat=np.empty_like(y_pred)\n",
    "for y in range(len(y_pred)):\n",
    "    if y_pred[y]>0.3:\n",
    "        yhat[y]=1\n",
    "    else:\n",
    "        yhat[y]=0\n",
    "        \n",
    "yhat"
   ]
  },
  {
   "cell_type": "code",
   "execution_count": 97,
   "id": "aa0d8701",
   "metadata": {},
   "outputs": [
    {
     "data": {
      "text/plain": [
       "0.86"
      ]
     },
     "execution_count": 97,
     "metadata": {},
     "output_type": "execute_result"
    }
   ],
   "source": [
    "round(accuracy_score(yhat, y_train),2)"
   ]
  },
  {
   "cell_type": "code",
   "execution_count": 98,
   "id": "3d2b1768",
   "metadata": {},
   "outputs": [
    {
     "data": {
      "text/plain": [
       "0.55"
      ]
     },
     "execution_count": 98,
     "metadata": {},
     "output_type": "execute_result"
    }
   ],
   "source": [
    "round(f1_score(yhat, y_train),2)"
   ]
  },
  {
   "cell_type": "code",
   "execution_count": 99,
   "id": "25619e0a",
   "metadata": {},
   "outputs": [
    {
     "name": "stdout",
     "output_type": "stream",
     "text": [
      "63/63 [==============================] - 0s 503us/step\n"
     ]
    }
   ],
   "source": [
    "y_pred=model.predict(x_test_s)"
   ]
  },
  {
   "cell_type": "code",
   "execution_count": 100,
   "id": "c415c03a",
   "metadata": {},
   "outputs": [
    {
     "data": {
      "text/plain": [
       "array([[0.],\n",
       "       [0.],\n",
       "       [0.],\n",
       "       ...,\n",
       "       [1.],\n",
       "       [0.],\n",
       "       [0.]], dtype=float32)"
      ]
     },
     "execution_count": 100,
     "metadata": {},
     "output_type": "execute_result"
    }
   ],
   "source": [
    "yhat=np.empty_like(y_pred)\n",
    "for y in range(len(y_pred)):\n",
    "    if y_pred[y]>0.3:\n",
    "        yhat[y]=1\n",
    "    else:\n",
    "        yhat[y]=0\n",
    "        \n",
    "yhat"
   ]
  },
  {
   "cell_type": "code",
   "execution_count": 101,
   "id": "7f0fbc51",
   "metadata": {},
   "outputs": [
    {
     "data": {
      "text/plain": [
       "0.85"
      ]
     },
     "execution_count": 101,
     "metadata": {},
     "output_type": "execute_result"
    }
   ],
   "source": [
    "round(accuracy_score(yhat, y_test),2)"
   ]
  },
  {
   "cell_type": "code",
   "execution_count": 102,
   "id": "9b94067d",
   "metadata": {},
   "outputs": [
    {
     "data": {
      "text/plain": [
       "0.5"
      ]
     },
     "execution_count": 102,
     "metadata": {},
     "output_type": "execute_result"
    }
   ],
   "source": [
    "round(f1_score(yhat, y_test),2)"
   ]
  },
  {
   "cell_type": "markdown",
   "id": "f8ed4f88",
   "metadata": {},
   "source": [
    "# Collecting All the Results saved in a CSV File"
   ]
  },
  {
   "cell_type": "code",
   "execution_count": 106,
   "id": "e41cd9e2",
   "metadata": {},
   "outputs": [],
   "source": [
    "data=pd.read_csv('Saved_Data.csv')"
   ]
  },
  {
   "cell_type": "code",
   "execution_count": 111,
   "id": "5f70162c",
   "metadata": {},
   "outputs": [],
   "source": [
    "data.drop([1],inplace=True)"
   ]
  },
  {
   "cell_type": "code",
   "execution_count": 113,
   "id": "ddb22403",
   "metadata": {},
   "outputs": [],
   "source": [
    "data.columns=['Model Name', 'Training Accuracy','Training F1 Score', 'Testing Accuracy', 'Testing F1 Score']"
   ]
  },
  {
   "cell_type": "code",
   "execution_count": 115,
   "id": "2be11aca",
   "metadata": {},
   "outputs": [],
   "source": [
    "data.drop([0], inplace=True)"
   ]
  },
  {
   "cell_type": "code",
   "execution_count": 118,
   "id": "d1ac5e9c",
   "metadata": {},
   "outputs": [
    {
     "data": {
      "text/html": [
       "<div>\n",
       "<style scoped>\n",
       "    .dataframe tbody tr th:only-of-type {\n",
       "        vertical-align: middle;\n",
       "    }\n",
       "\n",
       "    .dataframe tbody tr th {\n",
       "        vertical-align: top;\n",
       "    }\n",
       "\n",
       "    .dataframe thead th {\n",
       "        text-align: right;\n",
       "    }\n",
       "</style>\n",
       "<table border=\"1\" class=\"dataframe\">\n",
       "  <thead>\n",
       "    <tr style=\"text-align: right;\">\n",
       "      <th></th>\n",
       "      <th>Model Name</th>\n",
       "      <th>Training Accuracy</th>\n",
       "      <th>Training F1 Score</th>\n",
       "      <th>Testing Accuracy</th>\n",
       "      <th>Testing F1 Score</th>\n",
       "    </tr>\n",
       "  </thead>\n",
       "  <tbody>\n",
       "    <tr>\n",
       "      <th>2</th>\n",
       "      <td>Linear Regression</td>\n",
       "      <td>0.76425</td>\n",
       "      <td>0.487</td>\n",
       "      <td>0.7755</td>\n",
       "      <td>0.5114</td>\n",
       "    </tr>\n",
       "    <tr>\n",
       "      <th>3</th>\n",
       "      <td>Random Forest</td>\n",
       "      <td>1</td>\n",
       "      <td>1</td>\n",
       "      <td>0.87</td>\n",
       "      <td>0.589</td>\n",
       "    </tr>\n",
       "    <tr>\n",
       "      <th>4</th>\n",
       "      <td>Gradient Boosting</td>\n",
       "      <td>1</td>\n",
       "      <td>1</td>\n",
       "      <td>0.8645</td>\n",
       "      <td>0.58</td>\n",
       "    </tr>\n",
       "    <tr>\n",
       "      <th>5</th>\n",
       "      <td>XGBoost</td>\n",
       "      <td>0.86</td>\n",
       "      <td>0.59</td>\n",
       "      <td>0.87</td>\n",
       "      <td>0.59</td>\n",
       "    </tr>\n",
       "    <tr>\n",
       "      <th>6</th>\n",
       "      <td>LGBM</td>\n",
       "      <td>1</td>\n",
       "      <td>1</td>\n",
       "      <td>1</td>\n",
       "      <td>0.6</td>\n",
       "    </tr>\n",
       "    <tr>\n",
       "      <th>7</th>\n",
       "      <td>TF with Dropout</td>\n",
       "      <td>0.81</td>\n",
       "      <td>0.57</td>\n",
       "      <td>0.81</td>\n",
       "      <td>0.57</td>\n",
       "    </tr>\n",
       "    <tr>\n",
       "      <th>8</th>\n",
       "      <td>TF without Dropout</td>\n",
       "      <td>0.84</td>\n",
       "      <td>0.63</td>\n",
       "      <td>0.84</td>\n",
       "      <td>0.61</td>\n",
       "    </tr>\n",
       "    <tr>\n",
       "      <th>9</th>\n",
       "      <td>TF with Dropout with Logits</td>\n",
       "      <td>0.79</td>\n",
       "      <td>0</td>\n",
       "      <td>0.8</td>\n",
       "      <td>0</td>\n",
       "    </tr>\n",
       "    <tr>\n",
       "      <th>10</th>\n",
       "      <td>TF with Logits</td>\n",
       "      <td>0.86</td>\n",
       "      <td>0.55</td>\n",
       "      <td>0.85</td>\n",
       "      <td>0.5</td>\n",
       "    </tr>\n",
       "  </tbody>\n",
       "</table>\n",
       "</div>"
      ],
      "text/plain": [
       "                     Model Name Training Accuracy Training F1 Score  \\\n",
       "2             Linear Regression           0.76425             0.487   \n",
       "3                 Random Forest                 1                 1   \n",
       "4             Gradient Boosting                 1                 1   \n",
       "5                       XGBoost              0.86              0.59   \n",
       "6                          LGBM                 1                 1   \n",
       "7               TF with Dropout              0.81              0.57   \n",
       "8            TF without Dropout              0.84              0.63   \n",
       "9   TF with Dropout with Logits              0.79                 0   \n",
       "10               TF with Logits              0.86              0.55   \n",
       "\n",
       "   Testing Accuracy Testing F1 Score  \n",
       "2            0.7755           0.5114  \n",
       "3              0.87            0.589  \n",
       "4            0.8645             0.58  \n",
       "5              0.87             0.59  \n",
       "6                 1              0.6  \n",
       "7              0.81             0.57  \n",
       "8              0.84             0.61  \n",
       "9               0.8                0  \n",
       "10             0.85              0.5  "
      ]
     },
     "execution_count": 118,
     "metadata": {},
     "output_type": "execute_result"
    }
   ],
   "source": [
    "data"
   ]
  },
  {
   "cell_type": "code",
   "execution_count": 119,
   "id": "fdd85b13",
   "metadata": {},
   "outputs": [],
   "source": [
    "data.index=data['Model Name']"
   ]
  },
  {
   "cell_type": "code",
   "execution_count": 121,
   "id": "3236a440",
   "metadata": {},
   "outputs": [],
   "source": [
    "data.drop(columns=['Model Name'], axis=1, inplace=True)"
   ]
  },
  {
   "cell_type": "code",
   "execution_count": 122,
   "id": "f787f43e",
   "metadata": {},
   "outputs": [
    {
     "data": {
      "text/html": [
       "<div>\n",
       "<style scoped>\n",
       "    .dataframe tbody tr th:only-of-type {\n",
       "        vertical-align: middle;\n",
       "    }\n",
       "\n",
       "    .dataframe tbody tr th {\n",
       "        vertical-align: top;\n",
       "    }\n",
       "\n",
       "    .dataframe thead th {\n",
       "        text-align: right;\n",
       "    }\n",
       "</style>\n",
       "<table border=\"1\" class=\"dataframe\">\n",
       "  <thead>\n",
       "    <tr style=\"text-align: right;\">\n",
       "      <th></th>\n",
       "      <th>Training Accuracy</th>\n",
       "      <th>Training F1 Score</th>\n",
       "      <th>Testing Accuracy</th>\n",
       "      <th>Testing F1 Score</th>\n",
       "    </tr>\n",
       "    <tr>\n",
       "      <th>Model Name</th>\n",
       "      <th></th>\n",
       "      <th></th>\n",
       "      <th></th>\n",
       "      <th></th>\n",
       "    </tr>\n",
       "  </thead>\n",
       "  <tbody>\n",
       "    <tr>\n",
       "      <th>Linear Regression</th>\n",
       "      <td>0.76425</td>\n",
       "      <td>0.487</td>\n",
       "      <td>0.7755</td>\n",
       "      <td>0.5114</td>\n",
       "    </tr>\n",
       "    <tr>\n",
       "      <th>Random Forest</th>\n",
       "      <td>1</td>\n",
       "      <td>1</td>\n",
       "      <td>0.87</td>\n",
       "      <td>0.589</td>\n",
       "    </tr>\n",
       "    <tr>\n",
       "      <th>Gradient Boosting</th>\n",
       "      <td>1</td>\n",
       "      <td>1</td>\n",
       "      <td>0.8645</td>\n",
       "      <td>0.58</td>\n",
       "    </tr>\n",
       "    <tr>\n",
       "      <th>XGBoost</th>\n",
       "      <td>0.86</td>\n",
       "      <td>0.59</td>\n",
       "      <td>0.87</td>\n",
       "      <td>0.59</td>\n",
       "    </tr>\n",
       "    <tr>\n",
       "      <th>LGBM</th>\n",
       "      <td>1</td>\n",
       "      <td>1</td>\n",
       "      <td>1</td>\n",
       "      <td>0.6</td>\n",
       "    </tr>\n",
       "    <tr>\n",
       "      <th>TF with Dropout</th>\n",
       "      <td>0.81</td>\n",
       "      <td>0.57</td>\n",
       "      <td>0.81</td>\n",
       "      <td>0.57</td>\n",
       "    </tr>\n",
       "    <tr>\n",
       "      <th>TF without Dropout</th>\n",
       "      <td>0.84</td>\n",
       "      <td>0.63</td>\n",
       "      <td>0.84</td>\n",
       "      <td>0.61</td>\n",
       "    </tr>\n",
       "    <tr>\n",
       "      <th>TF with Dropout with Logits</th>\n",
       "      <td>0.79</td>\n",
       "      <td>0</td>\n",
       "      <td>0.8</td>\n",
       "      <td>0</td>\n",
       "    </tr>\n",
       "    <tr>\n",
       "      <th>TF with Logits</th>\n",
       "      <td>0.86</td>\n",
       "      <td>0.55</td>\n",
       "      <td>0.85</td>\n",
       "      <td>0.5</td>\n",
       "    </tr>\n",
       "  </tbody>\n",
       "</table>\n",
       "</div>"
      ],
      "text/plain": [
       "                            Training Accuracy Training F1 Score  \\\n",
       "Model Name                                                        \n",
       "Linear Regression                     0.76425             0.487   \n",
       "Random Forest                               1                 1   \n",
       "Gradient Boosting                           1                 1   \n",
       "XGBoost                                  0.86              0.59   \n",
       "LGBM                                        1                 1   \n",
       "TF with Dropout                          0.81              0.57   \n",
       "TF without Dropout                       0.84              0.63   \n",
       "TF with Dropout with Logits              0.79                 0   \n",
       "TF with Logits                           0.86              0.55   \n",
       "\n",
       "                            Testing Accuracy Testing F1 Score  \n",
       "Model Name                                                     \n",
       "Linear Regression                     0.7755           0.5114  \n",
       "Random Forest                           0.87            0.589  \n",
       "Gradient Boosting                     0.8645             0.58  \n",
       "XGBoost                                 0.87             0.59  \n",
       "LGBM                                       1              0.6  \n",
       "TF with Dropout                         0.81             0.57  \n",
       "TF without Dropout                      0.84             0.61  \n",
       "TF with Dropout with Logits              0.8                0  \n",
       "TF with Logits                          0.85              0.5  "
      ]
     },
     "execution_count": 122,
     "metadata": {},
     "output_type": "execute_result"
    }
   ],
   "source": [
    "data"
   ]
  },
  {
   "cell_type": "code",
   "execution_count": 125,
   "id": "6d555202",
   "metadata": {},
   "outputs": [],
   "source": [
    "import seaborn as sns"
   ]
  },
  {
   "cell_type": "code",
   "execution_count": 173,
   "id": "d003703b",
   "metadata": {},
   "outputs": [],
   "source": [
    "data['Training Accuracy']=data['Training Accuracy'].astype('float')\n",
    "data['Training F1 Score']=data['Training F1 Score'].astype('float')\n",
    "data['Testing Accuracy']=data['Testing Accuracy'].astype('float')\n",
    "data['Testing F1 Score']=data['Testing F1 Score'].astype('float')"
   ]
  },
  {
   "cell_type": "code",
   "execution_count": 174,
   "id": "2dda4dbb",
   "metadata": {},
   "outputs": [
    {
     "data": {
      "text/plain": [
       "Training Accuracy    float64\n",
       "Training F1 Score    float64\n",
       "Testing Accuracy     float64\n",
       "Testing F1 Score     float64\n",
       "dtype: object"
      ]
     },
     "execution_count": 174,
     "metadata": {},
     "output_type": "execute_result"
    }
   ],
   "source": [
    "data.dtypes"
   ]
  },
  {
   "cell_type": "code",
   "execution_count": 181,
   "id": "83ba1914",
   "metadata": {},
   "outputs": [
    {
     "data": {
      "text/plain": [
       "<AxesSubplot: xlabel='Model Name'>"
      ]
     },
     "execution_count": 181,
     "metadata": {},
     "output_type": "execute_result"
    },
    {
     "data": {
      "image/png": "[encoded data removed]",
      "text/plain": [
       "<Figure size 640x480 with 1 Axes>"
      ]
     },
     "metadata": {},
     "output_type": "display_data"
    }
   ],
   "source": [
    "data.plot(kind='bar')"
   ]
  }
 ],
 "metadata": {
  "kernelspec": {
   "display_name": "Python 3 (ipykernel)",
   "language": "python",
   "name": "python3"
  },
  "language_info": {
   "codemirror_mode": {
    "name": "ipython",
    "version": 3
   },
   "file_extension": ".py",
   "mimetype": "text/x-python",
   "name": "python",
   "nbconvert_exporter": "python",
   "pygments_lexer": "ipython3",
   "version": "3.11.6"
  }
 },
 "nbformat": 4,
 "nbformat_minor": 5
}
